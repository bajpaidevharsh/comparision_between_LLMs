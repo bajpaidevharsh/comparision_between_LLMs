{
 "cells": [
  {
   "cell_type": "code",
   "execution_count": 3,
   "metadata": {
    "execution": {
     "iopub.execute_input": "2025-03-26T22:38:46.525386Z",
     "iopub.status.busy": "2025-03-26T22:38:46.525056Z",
     "iopub.status.idle": "2025-03-26T22:38:46.529158Z",
     "shell.execute_reply": "2025-03-26T22:38:46.528171Z",
     "shell.execute_reply.started": "2025-03-26T22:38:46.525358Z"
    },
    "trusted": true
   },
   "outputs": [],
   "source": [
    "import numpy\n",
    "import pandas\n",
    "import matplotlib.pyplot"
   ]
  },
  {
   "cell_type": "code",
   "execution_count": 86,
   "metadata": {
    "execution": {
     "iopub.execute_input": "2025-03-26T23:32:28.205010Z",
     "iopub.status.busy": "2025-03-26T23:32:28.204680Z",
     "iopub.status.idle": "2025-03-26T23:32:28.306720Z",
     "shell.execute_reply": "2025-03-26T23:32:28.306007Z",
     "shell.execute_reply.started": "2025-03-26T23:32:28.204984Z"
    },
    "trusted": true
   },
   "outputs": [],
   "source": [
    "data=pandas.read_csv('/kaggle/input/clickbait-text/yatiraj_data.csv')"
   ]
  },
  {
   "cell_type": "code",
   "execution_count": 87,
   "metadata": {
    "execution": {
     "iopub.execute_input": "2025-03-26T23:32:30.704596Z",
     "iopub.status.busy": "2025-03-26T23:32:30.704296Z",
     "iopub.status.idle": "2025-03-26T23:32:30.750039Z",
     "shell.execute_reply": "2025-03-26T23:32:30.748906Z",
     "shell.execute_reply.started": "2025-03-26T23:32:30.704576Z"
    },
    "trusted": true
   },
   "outputs": [
    {
     "data": {
      "text/html": [
       "<div>\n",
       "<style scoped>\n",
       "    .dataframe tbody tr th:only-of-type {\n",
       "        vertical-align: middle;\n",
       "    }\n",
       "\n",
       "    .dataframe tbody tr th {\n",
       "        vertical-align: top;\n",
       "    }\n",
       "\n",
       "    .dataframe thead th {\n",
       "        text-align: right;\n",
       "    }\n",
       "</style>\n",
       "<table border=\"1\" class=\"dataframe\">\n",
       "  <thead>\n",
       "    <tr style=\"text-align: right;\">\n",
       "      <th></th>\n",
       "      <th>headline</th>\n",
       "      <th>clickbait</th>\n",
       "    </tr>\n",
       "  </thead>\n",
       "  <tbody>\n",
       "    <tr>\n",
       "      <th>0</th>\n",
       "      <td>Should I Get Bings</td>\n",
       "      <td>1</td>\n",
       "    </tr>\n",
       "    <tr>\n",
       "      <th>1</th>\n",
       "      <td>Which TV Female Friend Group Do You Belong In</td>\n",
       "      <td>1</td>\n",
       "    </tr>\n",
       "    <tr>\n",
       "      <th>2</th>\n",
       "      <td>The New \"Star Wars: The Force Awakens\" Trailer...</td>\n",
       "      <td>1</td>\n",
       "    </tr>\n",
       "    <tr>\n",
       "      <th>3</th>\n",
       "      <td>This Vine Of New York On \"Celebrity Big Brothe...</td>\n",
       "      <td>1</td>\n",
       "    </tr>\n",
       "    <tr>\n",
       "      <th>4</th>\n",
       "      <td>A Couple Did A Stunning Photo Shoot With Their...</td>\n",
       "      <td>1</td>\n",
       "    </tr>\n",
       "  </tbody>\n",
       "</table>\n",
       "</div>"
      ],
      "text/plain": [
       "                                            headline  clickbait\n",
       "0                                 Should I Get Bings          1\n",
       "1      Which TV Female Friend Group Do You Belong In          1\n",
       "2  The New \"Star Wars: The Force Awakens\" Trailer...          1\n",
       "3  This Vine Of New York On \"Celebrity Big Brothe...          1\n",
       "4  A Couple Did A Stunning Photo Shoot With Their...          1"
      ]
     },
     "execution_count": 87,
     "metadata": {},
     "output_type": "execute_result"
    }
   ],
   "source": [
    "data.head(5)"
   ]
  },
  {
   "cell_type": "code",
   "execution_count": 88,
   "metadata": {
    "execution": {
     "iopub.execute_input": "2025-03-26T23:32:33.448165Z",
     "iopub.status.busy": "2025-03-26T23:32:33.447798Z",
     "iopub.status.idle": "2025-03-26T23:32:33.479919Z",
     "shell.execute_reply": "2025-03-26T23:32:33.478807Z",
     "shell.execute_reply.started": "2025-03-26T23:32:33.448138Z"
    },
    "trusted": true
   },
   "outputs": [
    {
     "data": {
      "text/html": [
       "<div>\n",
       "<style scoped>\n",
       "    .dataframe tbody tr th:only-of-type {\n",
       "        vertical-align: middle;\n",
       "    }\n",
       "\n",
       "    .dataframe tbody tr th {\n",
       "        vertical-align: top;\n",
       "    }\n",
       "\n",
       "    .dataframe thead th {\n",
       "        text-align: right;\n",
       "    }\n",
       "</style>\n",
       "<table border=\"1\" class=\"dataframe\">\n",
       "  <thead>\n",
       "    <tr style=\"text-align: right;\">\n",
       "      <th></th>\n",
       "      <th>headline</th>\n",
       "      <th>clickbait</th>\n",
       "    </tr>\n",
       "  </thead>\n",
       "  <tbody>\n",
       "    <tr>\n",
       "      <th>0</th>\n",
       "      <td>Should I Get Bings</td>\n",
       "      <td>1</td>\n",
       "    </tr>\n",
       "    <tr>\n",
       "      <th>1</th>\n",
       "      <td>Which TV Female Friend Group Do You Belong In</td>\n",
       "      <td>1</td>\n",
       "    </tr>\n",
       "    <tr>\n",
       "      <th>2</th>\n",
       "      <td>The New \"Star Wars: The Force Awakens\" Trailer...</td>\n",
       "      <td>1</td>\n",
       "    </tr>\n",
       "    <tr>\n",
       "      <th>3</th>\n",
       "      <td>This Vine Of New York On \"Celebrity Big Brothe...</td>\n",
       "      <td>1</td>\n",
       "    </tr>\n",
       "    <tr>\n",
       "      <th>4</th>\n",
       "      <td>A Couple Did A Stunning Photo Shoot With Their...</td>\n",
       "      <td>1</td>\n",
       "    </tr>\n",
       "    <tr>\n",
       "      <th>...</th>\n",
       "      <td>...</td>\n",
       "      <td>...</td>\n",
       "    </tr>\n",
       "    <tr>\n",
       "      <th>31995</th>\n",
       "      <td>To Make Female Hearts Flutter in Iraq, Throw a...</td>\n",
       "      <td>0</td>\n",
       "    </tr>\n",
       "    <tr>\n",
       "      <th>31996</th>\n",
       "      <td>British Liberal Democrat Patsy Calton, 56, die...</td>\n",
       "      <td>0</td>\n",
       "    </tr>\n",
       "    <tr>\n",
       "      <th>31997</th>\n",
       "      <td>Drone smartphone app to help heart attack vict...</td>\n",
       "      <td>0</td>\n",
       "    </tr>\n",
       "    <tr>\n",
       "      <th>31998</th>\n",
       "      <td>Netanyahu Urges Pope Benedict, in Israel, to D...</td>\n",
       "      <td>0</td>\n",
       "    </tr>\n",
       "    <tr>\n",
       "      <th>31999</th>\n",
       "      <td>Computer Makers Prepare to Stake Bigger Claim ...</td>\n",
       "      <td>0</td>\n",
       "    </tr>\n",
       "  </tbody>\n",
       "</table>\n",
       "<p>32000 rows × 2 columns</p>\n",
       "</div>"
      ],
      "text/plain": [
       "                                                headline  clickbait\n",
       "0                                     Should I Get Bings          1\n",
       "1          Which TV Female Friend Group Do You Belong In          1\n",
       "2      The New \"Star Wars: The Force Awakens\" Trailer...          1\n",
       "3      This Vine Of New York On \"Celebrity Big Brothe...          1\n",
       "4      A Couple Did A Stunning Photo Shoot With Their...          1\n",
       "...                                                  ...        ...\n",
       "31995  To Make Female Hearts Flutter in Iraq, Throw a...          0\n",
       "31996  British Liberal Democrat Patsy Calton, 56, die...          0\n",
       "31997  Drone smartphone app to help heart attack vict...          0\n",
       "31998  Netanyahu Urges Pope Benedict, in Israel, to D...          0\n",
       "31999  Computer Makers Prepare to Stake Bigger Claim ...          0\n",
       "\n",
       "[32000 rows x 2 columns]"
      ]
     },
     "execution_count": 88,
     "metadata": {},
     "output_type": "execute_result"
    }
   ],
   "source": [
    "data"
   ]
  },
  {
   "cell_type": "code",
   "execution_count": 89,
   "metadata": {
    "execution": {
     "iopub.execute_input": "2025-03-26T23:32:39.234308Z",
     "iopub.status.busy": "2025-03-26T23:32:39.233992Z",
     "iopub.status.idle": "2025-03-26T23:32:39.244641Z",
     "shell.execute_reply": "2025-03-26T23:32:39.243550Z",
     "shell.execute_reply.started": "2025-03-26T23:32:39.234284Z"
    },
    "trusted": true
   },
   "outputs": [],
   "source": [
    "data['labels']=data['clickbait']\n",
    "data.drop('clickbait',axis=1,inplace=True)"
   ]
  },
  {
   "cell_type": "code",
   "execution_count": 90,
   "metadata": {
    "execution": {
     "iopub.execute_input": "2025-03-26T23:32:41.166733Z",
     "iopub.status.busy": "2025-03-26T23:32:41.166361Z",
     "iopub.status.idle": "2025-03-26T23:32:41.170763Z",
     "shell.execute_reply": "2025-03-26T23:32:41.169668Z",
     "shell.execute_reply.started": "2025-03-26T23:32:41.166703Z"
    },
    "trusted": true
   },
   "outputs": [],
   "source": [
    "label2id={0:'NO',1:'YES'}"
   ]
  },
  {
   "cell_type": "code",
   "execution_count": 91,
   "metadata": {
    "execution": {
     "iopub.execute_input": "2025-03-26T23:32:42.758768Z",
     "iopub.status.busy": "2025-03-26T23:32:42.758399Z",
     "iopub.status.idle": "2025-03-26T23:32:50.636201Z",
     "shell.execute_reply": "2025-03-26T23:32:50.635254Z",
     "shell.execute_reply.started": "2025-03-26T23:32:42.758738Z"
    },
    "trusted": true
   },
   "outputs": [
    {
     "name": "stdout",
     "output_type": "stream",
     "text": [
      "Requirement already satisfied: datasets in /usr/local/lib/python3.10/dist-packages (3.3.1)\n",
      "Requirement already satisfied: filelock in /usr/local/lib/python3.10/dist-packages (from datasets) (3.17.0)\n",
      "Requirement already satisfied: numpy>=1.17 in /usr/local/lib/python3.10/dist-packages (from datasets) (1.26.4)\n",
      "Requirement already satisfied: pyarrow>=15.0.0 in /usr/local/lib/python3.10/dist-packages (from datasets) (19.0.1)\n",
      "Requirement already satisfied: dill<0.3.9,>=0.3.0 in /usr/local/lib/python3.10/dist-packages (from datasets) (0.3.8)\n",
      "Requirement already satisfied: pandas in /usr/local/lib/python3.10/dist-packages (from datasets) (2.2.3)\n",
      "Requirement already satisfied: requests>=2.32.2 in /usr/local/lib/python3.10/dist-packages (from datasets) (2.32.3)\n",
      "Requirement already satisfied: tqdm>=4.66.3 in /usr/local/lib/python3.10/dist-packages (from datasets) (4.67.1)\n",
      "Requirement already satisfied: xxhash in /usr/local/lib/python3.10/dist-packages (from datasets) (3.5.0)\n",
      "Requirement already satisfied: multiprocess<0.70.17 in /usr/local/lib/python3.10/dist-packages (from datasets) (0.70.16)\n",
      "Requirement already satisfied: fsspec<=2024.12.0,>=2023.1.0 in /usr/local/lib/python3.10/dist-packages (from fsspec[http]<=2024.12.0,>=2023.1.0->datasets) (2024.12.0)\n",
      "Requirement already satisfied: aiohttp in /usr/local/lib/python3.10/dist-packages (from datasets) (3.11.12)\n",
      "Requirement already satisfied: huggingface-hub>=0.24.0 in /usr/local/lib/python3.10/dist-packages (from datasets) (0.29.0)\n",
      "Requirement already satisfied: packaging in /usr/local/lib/python3.10/dist-packages (from datasets) (24.2)\n",
      "Requirement already satisfied: pyyaml>=5.1 in /usr/local/lib/python3.10/dist-packages (from datasets) (6.0.2)\n",
      "Requirement already satisfied: aiohappyeyeballs>=2.3.0 in /usr/local/lib/python3.10/dist-packages (from aiohttp->datasets) (2.4.6)\n",
      "Requirement already satisfied: aiosignal>=1.1.2 in /usr/local/lib/python3.10/dist-packages (from aiohttp->datasets) (1.3.2)\n",
      "Requirement already satisfied: async-timeout<6.0,>=4.0 in /usr/local/lib/python3.10/dist-packages (from aiohttp->datasets) (5.0.1)\n",
      "Requirement already satisfied: attrs>=17.3.0 in /usr/local/lib/python3.10/dist-packages (from aiohttp->datasets) (25.1.0)\n",
      "Requirement already satisfied: frozenlist>=1.1.1 in /usr/local/lib/python3.10/dist-packages (from aiohttp->datasets) (1.5.0)\n",
      "Requirement already satisfied: multidict<7.0,>=4.5 in /usr/local/lib/python3.10/dist-packages (from aiohttp->datasets) (6.1.0)\n",
      "Requirement already satisfied: propcache>=0.2.0 in /usr/local/lib/python3.10/dist-packages (from aiohttp->datasets) (0.2.1)\n",
      "Requirement already satisfied: yarl<2.0,>=1.17.0 in /usr/local/lib/python3.10/dist-packages (from aiohttp->datasets) (1.18.3)\n",
      "Requirement already satisfied: typing-extensions>=3.7.4.3 in /usr/local/lib/python3.10/dist-packages (from huggingface-hub>=0.24.0->datasets) (4.12.2)\n",
      "Requirement already satisfied: mkl_fft in /usr/local/lib/python3.10/dist-packages (from numpy>=1.17->datasets) (1.3.8)\n",
      "Requirement already satisfied: mkl_random in /usr/local/lib/python3.10/dist-packages (from numpy>=1.17->datasets) (1.2.4)\n",
      "Requirement already satisfied: mkl_umath in /usr/local/lib/python3.10/dist-packages (from numpy>=1.17->datasets) (0.1.1)\n",
      "Requirement already satisfied: mkl in /usr/local/lib/python3.10/dist-packages (from numpy>=1.17->datasets) (2025.0.1)\n",
      "Requirement already satisfied: tbb4py in /usr/local/lib/python3.10/dist-packages (from numpy>=1.17->datasets) (2022.0.0)\n",
      "Requirement already satisfied: mkl-service in /usr/local/lib/python3.10/dist-packages (from numpy>=1.17->datasets) (2.4.1)\n",
      "Requirement already satisfied: charset-normalizer<4,>=2 in /usr/local/lib/python3.10/dist-packages (from requests>=2.32.2->datasets) (3.4.1)\n",
      "Requirement already satisfied: idna<4,>=2.5 in /usr/local/lib/python3.10/dist-packages (from requests>=2.32.2->datasets) (3.10)\n",
      "Requirement already satisfied: urllib3<3,>=1.21.1 in /usr/local/lib/python3.10/dist-packages (from requests>=2.32.2->datasets) (2.3.0)\n",
      "Requirement already satisfied: certifi>=2017.4.17 in /usr/local/lib/python3.10/dist-packages (from requests>=2.32.2->datasets) (2025.1.31)\n",
      "Requirement already satisfied: python-dateutil>=2.8.2 in /usr/local/lib/python3.10/dist-packages (from pandas->datasets) (2.9.0.post0)\n",
      "Requirement already satisfied: pytz>=2020.1 in /usr/local/lib/python3.10/dist-packages (from pandas->datasets) (2025.1)\n",
      "Requirement already satisfied: tzdata>=2022.7 in /usr/local/lib/python3.10/dist-packages (from pandas->datasets) (2025.1)\n",
      "Requirement already satisfied: six>=1.5 in /usr/local/lib/python3.10/dist-packages (from python-dateutil>=2.8.2->pandas->datasets) (1.17.0)\n",
      "Requirement already satisfied: intel-openmp>=2024 in /usr/local/lib/python3.10/dist-packages (from mkl->numpy>=1.17->datasets) (2024.2.0)\n",
      "Requirement already satisfied: tbb==2022.* in /usr/local/lib/python3.10/dist-packages (from mkl->numpy>=1.17->datasets) (2022.0.0)\n",
      "Requirement already satisfied: tcmlib==1.* in /usr/local/lib/python3.10/dist-packages (from tbb==2022.*->mkl->numpy>=1.17->datasets) (1.2.0)\n",
      "Requirement already satisfied: intel-cmplr-lib-rt in /usr/local/lib/python3.10/dist-packages (from mkl_umath->numpy>=1.17->datasets) (2024.2.0)\n",
      "Requirement already satisfied: intel-cmplr-lib-ur==2024.2.0 in /usr/local/lib/python3.10/dist-packages (from intel-openmp>=2024->mkl->numpy>=1.17->datasets) (2024.2.0)\n"
     ]
    }
   ],
   "source": [
    "!pip install datasets"
   ]
  },
  {
   "cell_type": "markdown",
   "metadata": {},
   "source": [
    "**emoji processing**"
   ]
  },
  {
   "cell_type": "code",
   "execution_count": 92,
   "metadata": {
    "execution": {
     "iopub.execute_input": "2025-03-26T23:32:50.637919Z",
     "iopub.status.busy": "2025-03-26T23:32:50.637660Z",
     "iopub.status.idle": "2025-03-26T23:32:50.681574Z",
     "shell.execute_reply": "2025-03-26T23:32:50.680881Z",
     "shell.execute_reply.started": "2025-03-26T23:32:50.637889Z"
    },
    "trusted": true
   },
   "outputs": [],
   "source": [
    "import emoji\n",
    "def emoji_conversion(text):\n",
    "    text = emoji.demojize(text)\n",
    "    return text"
   ]
  },
  {
   "cell_type": "code",
   "execution_count": 93,
   "metadata": {
    "execution": {
     "iopub.execute_input": "2025-03-26T23:32:50.683097Z",
     "iopub.status.busy": "2025-03-26T23:32:50.682842Z",
     "iopub.status.idle": "2025-03-26T23:32:52.128674Z",
     "shell.execute_reply": "2025-03-26T23:32:52.127967Z",
     "shell.execute_reply.started": "2025-03-26T23:32:50.683075Z"
    },
    "trusted": true
   },
   "outputs": [],
   "source": [
    "data['headline']=data['headline'].map(emoji_conversion)"
   ]
  },
  {
   "cell_type": "code",
   "execution_count": 94,
   "metadata": {
    "execution": {
     "iopub.execute_input": "2025-03-26T23:32:56.565102Z",
     "iopub.status.busy": "2025-03-26T23:32:56.564797Z",
     "iopub.status.idle": "2025-03-26T23:32:56.574458Z",
     "shell.execute_reply": "2025-03-26T23:32:56.573655Z",
     "shell.execute_reply.started": "2025-03-26T23:32:56.565079Z"
    },
    "trusted": true
   },
   "outputs": [
    {
     "data": {
      "text/html": [
       "<div>\n",
       "<style scoped>\n",
       "    .dataframe tbody tr th:only-of-type {\n",
       "        vertical-align: middle;\n",
       "    }\n",
       "\n",
       "    .dataframe tbody tr th {\n",
       "        vertical-align: top;\n",
       "    }\n",
       "\n",
       "    .dataframe thead th {\n",
       "        text-align: right;\n",
       "    }\n",
       "</style>\n",
       "<table border=\"1\" class=\"dataframe\">\n",
       "  <thead>\n",
       "    <tr style=\"text-align: right;\">\n",
       "      <th></th>\n",
       "      <th>headline</th>\n",
       "      <th>labels</th>\n",
       "    </tr>\n",
       "  </thead>\n",
       "  <tbody>\n",
       "    <tr>\n",
       "      <th>0</th>\n",
       "      <td>Should I Get Bings</td>\n",
       "      <td>1</td>\n",
       "    </tr>\n",
       "    <tr>\n",
       "      <th>1</th>\n",
       "      <td>Which TV Female Friend Group Do You Belong In</td>\n",
       "      <td>1</td>\n",
       "    </tr>\n",
       "    <tr>\n",
       "      <th>2</th>\n",
       "      <td>The New \"Star Wars: The Force Awakens\" Trailer...</td>\n",
       "      <td>1</td>\n",
       "    </tr>\n",
       "    <tr>\n",
       "      <th>3</th>\n",
       "      <td>This Vine Of New York On \"Celebrity Big Brothe...</td>\n",
       "      <td>1</td>\n",
       "    </tr>\n",
       "    <tr>\n",
       "      <th>4</th>\n",
       "      <td>A Couple Did A Stunning Photo Shoot With Their...</td>\n",
       "      <td>1</td>\n",
       "    </tr>\n",
       "    <tr>\n",
       "      <th>...</th>\n",
       "      <td>...</td>\n",
       "      <td>...</td>\n",
       "    </tr>\n",
       "    <tr>\n",
       "      <th>31995</th>\n",
       "      <td>To Make Female Hearts Flutter in Iraq, Throw a...</td>\n",
       "      <td>0</td>\n",
       "    </tr>\n",
       "    <tr>\n",
       "      <th>31996</th>\n",
       "      <td>British Liberal Democrat Patsy Calton, 56, die...</td>\n",
       "      <td>0</td>\n",
       "    </tr>\n",
       "    <tr>\n",
       "      <th>31997</th>\n",
       "      <td>Drone smartphone app to help heart attack vict...</td>\n",
       "      <td>0</td>\n",
       "    </tr>\n",
       "    <tr>\n",
       "      <th>31998</th>\n",
       "      <td>Netanyahu Urges Pope Benedict, in Israel, to D...</td>\n",
       "      <td>0</td>\n",
       "    </tr>\n",
       "    <tr>\n",
       "      <th>31999</th>\n",
       "      <td>Computer Makers Prepare to Stake Bigger Claim ...</td>\n",
       "      <td>0</td>\n",
       "    </tr>\n",
       "  </tbody>\n",
       "</table>\n",
       "<p>32000 rows × 2 columns</p>\n",
       "</div>"
      ],
      "text/plain": [
       "                                                headline  labels\n",
       "0                                     Should I Get Bings       1\n",
       "1          Which TV Female Friend Group Do You Belong In       1\n",
       "2      The New \"Star Wars: The Force Awakens\" Trailer...       1\n",
       "3      This Vine Of New York On \"Celebrity Big Brothe...       1\n",
       "4      A Couple Did A Stunning Photo Shoot With Their...       1\n",
       "...                                                  ...     ...\n",
       "31995  To Make Female Hearts Flutter in Iraq, Throw a...       0\n",
       "31996  British Liberal Democrat Patsy Calton, 56, die...       0\n",
       "31997  Drone smartphone app to help heart attack vict...       0\n",
       "31998  Netanyahu Urges Pope Benedict, in Israel, to D...       0\n",
       "31999  Computer Makers Prepare to Stake Bigger Claim ...       0\n",
       "\n",
       "[32000 rows x 2 columns]"
      ]
     },
     "execution_count": 94,
     "metadata": {},
     "output_type": "execute_result"
    }
   ],
   "source": [
    "data"
   ]
  },
  {
   "cell_type": "code",
   "execution_count": 95,
   "metadata": {
    "execution": {
     "iopub.execute_input": "2025-03-26T23:32:58.558036Z",
     "iopub.status.busy": "2025-03-26T23:32:58.557750Z",
     "iopub.status.idle": "2025-03-26T23:32:58.561561Z",
     "shell.execute_reply": "2025-03-26T23:32:58.560715Z",
     "shell.execute_reply.started": "2025-03-26T23:32:58.558012Z"
    },
    "trusted": true
   },
   "outputs": [],
   "source": [
    "from sklearn.model_selection import train_test_split"
   ]
  },
  {
   "cell_type": "code",
   "execution_count": 96,
   "metadata": {
    "execution": {
     "iopub.execute_input": "2025-03-26T23:32:59.970070Z",
     "iopub.status.busy": "2025-03-26T23:32:59.969715Z",
     "iopub.status.idle": "2025-03-26T23:32:59.979764Z",
     "shell.execute_reply": "2025-03-26T23:32:59.978698Z",
     "shell.execute_reply.started": "2025-03-26T23:32:59.970040Z"
    },
    "trusted": true
   },
   "outputs": [],
   "source": [
    "train,test=train_test_split(data,test_size=0.2)"
   ]
  },
  {
   "cell_type": "code",
   "execution_count": 97,
   "metadata": {
    "execution": {
     "iopub.execute_input": "2025-03-26T23:33:03.160400Z",
     "iopub.status.busy": "2025-03-26T23:33:03.160102Z",
     "iopub.status.idle": "2025-03-26T23:33:04.406804Z",
     "shell.execute_reply": "2025-03-26T23:33:04.405806Z",
     "shell.execute_reply.started": "2025-03-26T23:33:03.160378Z"
    },
    "trusted": true
   },
   "outputs": [],
   "source": [
    "from datasets import Dataset,DatasetDict"
   ]
  },
  {
   "cell_type": "code",
   "execution_count": 98,
   "metadata": {
    "execution": {
     "iopub.execute_input": "2025-03-26T23:33:05.219504Z",
     "iopub.status.busy": "2025-03-26T23:33:05.218697Z",
     "iopub.status.idle": "2025-03-26T23:33:05.281516Z",
     "shell.execute_reply": "2025-03-26T23:33:05.280837Z",
     "shell.execute_reply.started": "2025-03-26T23:33:05.219460Z"
    },
    "trusted": true
   },
   "outputs": [],
   "source": [
    "train_data=DatasetDict(\n",
    "    {'train':Dataset.from_pandas(train,preserve_index=False),\n",
    "    'test':Dataset.from_pandas(test,preserve_index=False)\n",
    "    }\n",
    ")"
   ]
  },
  {
   "cell_type": "code",
   "execution_count": 204,
   "metadata": {
    "execution": {
     "iopub.execute_input": "2025-03-27T02:10:18.240025Z",
     "iopub.status.busy": "2025-03-27T02:10:18.239710Z",
     "iopub.status.idle": "2025-03-27T02:10:18.245385Z",
     "shell.execute_reply": "2025-03-27T02:10:18.244458Z",
     "shell.execute_reply.started": "2025-03-27T02:10:18.239998Z"
    },
    "trusted": true
   },
   "outputs": [
    {
     "data": {
      "text/plain": [
       "Dataset({\n",
       "    features: ['headline', 'labels'],\n",
       "    num_rows: 6400\n",
       "})"
      ]
     },
     "execution_count": 204,
     "metadata": {},
     "output_type": "execute_result"
    }
   ],
   "source": [
    "train_data['test']"
   ]
  },
  {
   "cell_type": "code",
   "execution_count": 180,
   "metadata": {
    "execution": {
     "iopub.execute_input": "2025-03-27T02:01:14.523298Z",
     "iopub.status.busy": "2025-03-27T02:01:14.523014Z",
     "iopub.status.idle": "2025-03-27T02:01:15.706909Z",
     "shell.execute_reply": "2025-03-27T02:01:15.705943Z",
     "shell.execute_reply.started": "2025-03-27T02:01:14.523276Z"
    },
    "trusted": true
   },
   "outputs": [
    {
     "data": {
      "application/vnd.jupyter.widget-view+json": {
       "model_id": "5a462dc22d6d402d988925189ac9a976",
       "version_major": 2,
       "version_minor": 0
      },
      "text/plain": [
       "tokenizer_config.json:   0%|          | 0.00/48.0 [00:00<?, ?B/s]"
      ]
     },
     "metadata": {},
     "output_type": "display_data"
    },
    {
     "data": {
      "application/vnd.jupyter.widget-view+json": {
       "model_id": "fabb5ad89e6749c09be09a31a2c14650",
       "version_major": 2,
       "version_minor": 0
      },
      "text/plain": [
       "config.json:   0%|          | 0.00/570 [00:00<?, ?B/s]"
      ]
     },
     "metadata": {},
     "output_type": "display_data"
    },
    {
     "data": {
      "application/vnd.jupyter.widget-view+json": {
       "model_id": "17fdf86f4a0341fab6e08e9965536abc",
       "version_major": 2,
       "version_minor": 0
      },
      "text/plain": [
       "vocab.txt:   0%|          | 0.00/232k [00:00<?, ?B/s]"
      ]
     },
     "metadata": {},
     "output_type": "display_data"
    },
    {
     "data": {
      "application/vnd.jupyter.widget-view+json": {
       "model_id": "0281cf0b322c476cb94c7a8029e50476",
       "version_major": 2,
       "version_minor": 0
      },
      "text/plain": [
       "tokenizer.json:   0%|          | 0.00/466k [00:00<?, ?B/s]"
      ]
     },
     "metadata": {},
     "output_type": "display_data"
    }
   ],
   "source": [
    "from transformers import AutoTokenizer\n",
    "token_bert_name='google-bert/bert-base-uncased'\n",
    "token_bert=AutoTokenizer.from_pretrained(token_bert_name)"
   ]
  },
  {
   "cell_type": "code",
   "execution_count": 100,
   "metadata": {
    "execution": {
     "iopub.execute_input": "2025-03-26T23:33:15.097361Z",
     "iopub.status.busy": "2025-03-26T23:33:15.097060Z",
     "iopub.status.idle": "2025-03-26T23:33:16.501773Z",
     "shell.execute_reply": "2025-03-26T23:33:16.501061Z",
     "shell.execute_reply.started": "2025-03-26T23:33:15.097337Z"
    },
    "trusted": true
   },
   "outputs": [
    {
     "data": {
      "application/vnd.jupyter.widget-view+json": {
       "model_id": "169eb9939ecb444097460b5347f08153",
       "version_major": 2,
       "version_minor": 0
      },
      "text/plain": [
       "tokenizer_config.json:   0%|          | 0.00/48.0 [00:00<?, ?B/s]"
      ]
     },
     "metadata": {},
     "output_type": "display_data"
    },
    {
     "data": {
      "application/vnd.jupyter.widget-view+json": {
       "model_id": "bb5789ad20ec4e0e85e3c1243df24856",
       "version_major": 2,
       "version_minor": 0
      },
      "text/plain": [
       "config.json:   0%|          | 0.00/629 [00:00<?, ?B/s]"
      ]
     },
     "metadata": {},
     "output_type": "display_data"
    },
    {
     "data": {
      "application/vnd.jupyter.widget-view+json": {
       "model_id": "573577d1a0814fd6a44726daf460163c",
       "version_major": 2,
       "version_minor": 0
      },
      "text/plain": [
       "vocab.txt:   0%|          | 0.00/232k [00:00<?, ?B/s]"
      ]
     },
     "metadata": {},
     "output_type": "display_data"
    }
   ],
   "source": [
    "token_distilbert_name='distilbert/distilbert-base-uncased-finetuned-sst-2-english'\n",
    "token_distilbert=AutoTokenizer.from_pretrained(token_distilbert_name)"
   ]
  },
  {
   "cell_type": "code",
   "execution_count": 101,
   "metadata": {
    "execution": {
     "iopub.execute_input": "2025-03-26T23:33:21.553945Z",
     "iopub.status.busy": "2025-03-26T23:33:21.553653Z",
     "iopub.status.idle": "2025-03-26T23:33:22.921405Z",
     "shell.execute_reply": "2025-03-26T23:33:22.920465Z",
     "shell.execute_reply.started": "2025-03-26T23:33:21.553921Z"
    },
    "trusted": true
   },
   "outputs": [
    {
     "data": {
      "application/vnd.jupyter.widget-view+json": {
       "model_id": "7842c397873841a8b1de5407d9b716dd",
       "version_major": 2,
       "version_minor": 0
      },
      "text/plain": [
       "tokenizer_config.json:   0%|          | 0.00/351 [00:00<?, ?B/s]"
      ]
     },
     "metadata": {},
     "output_type": "display_data"
    },
    {
     "data": {
      "application/vnd.jupyter.widget-view+json": {
       "model_id": "e54dfb5d57ed4c94921e63b9245eacd3",
       "version_major": 2,
       "version_minor": 0
      },
      "text/plain": [
       "config.json:   0%|          | 0.00/743 [00:00<?, ?B/s]"
      ]
     },
     "metadata": {},
     "output_type": "display_data"
    },
    {
     "data": {
      "application/vnd.jupyter.widget-view+json": {
       "model_id": "fbde593f1cac477abe3b6977561e4b84",
       "version_major": 2,
       "version_minor": 0
      },
      "text/plain": [
       "vocab.txt:   0%|          | 0.00/232k [00:00<?, ?B/s]"
      ]
     },
     "metadata": {},
     "output_type": "display_data"
    },
    {
     "data": {
      "application/vnd.jupyter.widget-view+json": {
       "model_id": "dea5bb0f30404fedabf4217d22352ab0",
       "version_major": 2,
       "version_minor": 0
      },
      "text/plain": [
       "tokenizer.json:   0%|          | 0.00/466k [00:00<?, ?B/s]"
      ]
     },
     "metadata": {},
     "output_type": "display_data"
    },
    {
     "data": {
      "application/vnd.jupyter.widget-view+json": {
       "model_id": "d2c7d0fb224f4b19aad6d797f8b6d682",
       "version_major": 2,
       "version_minor": 0
      },
      "text/plain": [
       "special_tokens_map.json:   0%|          | 0.00/112 [00:00<?, ?B/s]"
      ]
     },
     "metadata": {},
     "output_type": "display_data"
    }
   ],
   "source": [
    "token_tinybert_name='Intel/dynamic_tinybert'\n",
    "token_tinybert=AutoTokenizer.from_pretrained(token_tinybert_name)"
   ]
  },
  {
   "cell_type": "code",
   "execution_count": 102,
   "metadata": {
    "execution": {
     "iopub.execute_input": "2025-03-26T23:33:25.354441Z",
     "iopub.status.busy": "2025-03-26T23:33:25.354159Z",
     "iopub.status.idle": "2025-03-26T23:33:26.912359Z",
     "shell.execute_reply": "2025-03-26T23:33:26.911424Z",
     "shell.execute_reply.started": "2025-03-26T23:33:25.354418Z"
    },
    "trusted": true
   },
   "outputs": [
    {
     "data": {
      "application/vnd.jupyter.widget-view+json": {
       "model_id": "73c103f686614595972babbc6a447ca9",
       "version_major": 2,
       "version_minor": 0
      },
      "text/plain": [
       "config.json:   0%|          | 0.00/929 [00:00<?, ?B/s]"
      ]
     },
     "metadata": {},
     "output_type": "display_data"
    },
    {
     "data": {
      "application/vnd.jupyter.widget-view+json": {
       "model_id": "5e23c75ddab04680be384666bf5c62cf",
       "version_major": 2,
       "version_minor": 0
      },
      "text/plain": [
       "vocab.json:   0%|          | 0.00/899k [00:00<?, ?B/s]"
      ]
     },
     "metadata": {},
     "output_type": "display_data"
    },
    {
     "data": {
      "application/vnd.jupyter.widget-view+json": {
       "model_id": "cff41ca80d584bab83edc4effd101166",
       "version_major": 2,
       "version_minor": 0
      },
      "text/plain": [
       "merges.txt:   0%|          | 0.00/456k [00:00<?, ?B/s]"
      ]
     },
     "metadata": {},
     "output_type": "display_data"
    },
    {
     "data": {
      "application/vnd.jupyter.widget-view+json": {
       "model_id": "581ff8d70ca6422485f26f90b61fc640",
       "version_major": 2,
       "version_minor": 0
      },
      "text/plain": [
       "special_tokens_map.json:   0%|          | 0.00/239 [00:00<?, ?B/s]"
      ]
     },
     "metadata": {},
     "output_type": "display_data"
    }
   ],
   "source": [
    "token_roberta_name='cardiffnlp/twitter-roberta-base-sentiment-latest'\n",
    "token_roberta=AutoTokenizer.from_pretrained(token_roberta_name)"
   ]
  },
  {
   "cell_type": "code",
   "execution_count": 191,
   "metadata": {
    "execution": {
     "iopub.execute_input": "2025-03-27T02:05:36.664638Z",
     "iopub.status.busy": "2025-03-27T02:05:36.664316Z",
     "iopub.status.idle": "2025-03-27T02:05:36.668746Z",
     "shell.execute_reply": "2025-03-27T02:05:36.667898Z",
     "shell.execute_reply.started": "2025-03-27T02:05:36.664583Z"
    },
    "trusted": true
   },
   "outputs": [],
   "source": [
    "def tokenize_bert(data):\n",
    "  return token_bert(data['headline'],truncation=True,padding=True,max_length=30)"
   ]
  },
  {
   "cell_type": "code",
   "execution_count": 104,
   "metadata": {
    "execution": {
     "iopub.execute_input": "2025-03-26T23:33:30.613504Z",
     "iopub.status.busy": "2025-03-26T23:33:30.613062Z",
     "iopub.status.idle": "2025-03-26T23:33:30.618374Z",
     "shell.execute_reply": "2025-03-26T23:33:30.617484Z",
     "shell.execute_reply.started": "2025-03-26T23:33:30.613461Z"
    },
    "trusted": true
   },
   "outputs": [],
   "source": [
    "def tokenize_distilbert(data):\n",
    "  return token_distilbert(data['headline'],truncation=True,padding=True,max_length=128)"
   ]
  },
  {
   "cell_type": "code",
   "execution_count": 105,
   "metadata": {
    "execution": {
     "iopub.execute_input": "2025-03-26T23:33:32.606328Z",
     "iopub.status.busy": "2025-03-26T23:33:32.606033Z",
     "iopub.status.idle": "2025-03-26T23:33:32.610306Z",
     "shell.execute_reply": "2025-03-26T23:33:32.609320Z",
     "shell.execute_reply.started": "2025-03-26T23:33:32.606305Z"
    },
    "trusted": true
   },
   "outputs": [],
   "source": [
    "def tokenize_tinybert(data):\n",
    "  return token_tinybert(data['headline'],truncation=True,padding=True,max_length=128)"
   ]
  },
  {
   "cell_type": "code",
   "execution_count": 106,
   "metadata": {
    "execution": {
     "iopub.execute_input": "2025-03-26T23:33:35.194488Z",
     "iopub.status.busy": "2025-03-26T23:33:35.194203Z",
     "iopub.status.idle": "2025-03-26T23:33:35.198242Z",
     "shell.execute_reply": "2025-03-26T23:33:35.197232Z",
     "shell.execute_reply.started": "2025-03-26T23:33:35.194467Z"
    },
    "trusted": true
   },
   "outputs": [],
   "source": [
    "def tokenize_roberta(data):\n",
    "  return token_roberta(data['headline'],truncation=True,padding=True,max_length=128)"
   ]
  },
  {
   "cell_type": "code",
   "execution_count": 192,
   "metadata": {
    "execution": {
     "iopub.execute_input": "2025-03-27T02:05:40.585985Z",
     "iopub.status.busy": "2025-03-27T02:05:40.585478Z",
     "iopub.status.idle": "2025-03-27T02:05:42.572811Z",
     "shell.execute_reply": "2025-03-27T02:05:42.571690Z",
     "shell.execute_reply.started": "2025-03-27T02:05:40.585943Z"
    },
    "trusted": true
   },
   "outputs": [
    {
     "data": {
      "application/vnd.jupyter.widget-view+json": {
       "model_id": "0258bfa52936423cb4da699293f42605",
       "version_major": 2,
       "version_minor": 0
      },
      "text/plain": [
       "Map:   0%|          | 0/25600 [00:00<?, ? examples/s]"
      ]
     },
     "metadata": {},
     "output_type": "display_data"
    },
    {
     "data": {
      "application/vnd.jupyter.widget-view+json": {
       "model_id": "a2bd526eff294d3ea1310b08660bc745",
       "version_major": 2,
       "version_minor": 0
      },
      "text/plain": [
       "Map:   0%|          | 0/6400 [00:00<?, ? examples/s]"
      ]
     },
     "metadata": {},
     "output_type": "display_data"
    }
   ],
   "source": [
    "tokenized_data_bert=train_data.map(tokenize_bert,batched=True)"
   ]
  },
  {
   "cell_type": "code",
   "execution_count": 107,
   "metadata": {
    "execution": {
     "iopub.execute_input": "2025-03-26T23:33:40.089487Z",
     "iopub.status.busy": "2025-03-26T23:33:40.089155Z",
     "iopub.status.idle": "2025-03-26T23:33:41.530696Z",
     "shell.execute_reply": "2025-03-26T23:33:41.529786Z",
     "shell.execute_reply.started": "2025-03-26T23:33:40.089458Z"
    },
    "trusted": true
   },
   "outputs": [
    {
     "data": {
      "application/vnd.jupyter.widget-view+json": {
       "model_id": "ee342f1535174c94a8b1e1411105dc20",
       "version_major": 2,
       "version_minor": 0
      },
      "text/plain": [
       "Map:   0%|          | 0/25600 [00:00<?, ? examples/s]"
      ]
     },
     "metadata": {},
     "output_type": "display_data"
    },
    {
     "data": {
      "application/vnd.jupyter.widget-view+json": {
       "model_id": "8f313f4331bf496580ec09e9f1efdc9b",
       "version_major": 2,
       "version_minor": 0
      },
      "text/plain": [
       "Map:   0%|          | 0/6400 [00:00<?, ? examples/s]"
      ]
     },
     "metadata": {},
     "output_type": "display_data"
    }
   ],
   "source": [
    "tokenized_data_distilbert=train_data.map(tokenize_distilbert,batched=True)"
   ]
  },
  {
   "cell_type": "code",
   "execution_count": 108,
   "metadata": {
    "execution": {
     "iopub.execute_input": "2025-03-26T23:33:44.893072Z",
     "iopub.status.busy": "2025-03-26T23:33:44.892740Z",
     "iopub.status.idle": "2025-03-26T23:33:46.768206Z",
     "shell.execute_reply": "2025-03-26T23:33:46.767499Z",
     "shell.execute_reply.started": "2025-03-26T23:33:44.893043Z"
    },
    "trusted": true
   },
   "outputs": [
    {
     "data": {
      "application/vnd.jupyter.widget-view+json": {
       "model_id": "0bd566dc8ca045d69cdb198fdd910bb9",
       "version_major": 2,
       "version_minor": 0
      },
      "text/plain": [
       "Map:   0%|          | 0/25600 [00:00<?, ? examples/s]"
      ]
     },
     "metadata": {},
     "output_type": "display_data"
    },
    {
     "data": {
      "application/vnd.jupyter.widget-view+json": {
       "model_id": "4698785bbb7849e3b4190136868f50ab",
       "version_major": 2,
       "version_minor": 0
      },
      "text/plain": [
       "Map:   0%|          | 0/6400 [00:00<?, ? examples/s]"
      ]
     },
     "metadata": {},
     "output_type": "display_data"
    }
   ],
   "source": [
    "tokenized_data_tinybert=train_data.map(tokenize_tinybert,batched=True)"
   ]
  },
  {
   "cell_type": "code",
   "execution_count": 110,
   "metadata": {
    "execution": {
     "iopub.execute_input": "2025-03-26T23:34:14.602752Z",
     "iopub.status.busy": "2025-03-26T23:34:14.602348Z",
     "iopub.status.idle": "2025-03-26T23:34:16.315341Z",
     "shell.execute_reply": "2025-03-26T23:34:16.314534Z",
     "shell.execute_reply.started": "2025-03-26T23:34:14.602721Z"
    },
    "trusted": true
   },
   "outputs": [
    {
     "data": {
      "application/vnd.jupyter.widget-view+json": {
       "model_id": "c05fa6da4c154f8ebca3213db915a8a9",
       "version_major": 2,
       "version_minor": 0
      },
      "text/plain": [
       "Map:   0%|          | 0/25600 [00:00<?, ? examples/s]"
      ]
     },
     "metadata": {},
     "output_type": "display_data"
    },
    {
     "data": {
      "application/vnd.jupyter.widget-view+json": {
       "model_id": "769cf2aa504347db81c6ada305ff6530",
       "version_major": 2,
       "version_minor": 0
      },
      "text/plain": [
       "Map:   0%|          | 0/6400 [00:00<?, ? examples/s]"
      ]
     },
     "metadata": {},
     "output_type": "display_data"
    }
   ],
   "source": [
    "tokenized_data_roberta=train_data.map(tokenize_roberta,batched=True)"
   ]
  },
  {
   "cell_type": "code",
   "execution_count": 182,
   "metadata": {
    "execution": {
     "iopub.execute_input": "2025-03-27T02:01:25.216002Z",
     "iopub.status.busy": "2025-03-27T02:01:25.215667Z",
     "iopub.status.idle": "2025-03-27T02:01:25.221436Z",
     "shell.execute_reply": "2025-03-27T02:01:25.220510Z",
     "shell.execute_reply.started": "2025-03-27T02:01:25.215973Z"
    },
    "trusted": true
   },
   "outputs": [
    {
     "data": {
      "text/plain": [
       "DatasetDict({\n",
       "    train: Dataset({\n",
       "        features: ['headline', 'labels', 'input_ids', 'token_type_ids', 'attention_mask'],\n",
       "        num_rows: 25600\n",
       "    })\n",
       "    test: Dataset({\n",
       "        features: ['headline', 'labels', 'input_ids', 'token_type_ids', 'attention_mask'],\n",
       "        num_rows: 6400\n",
       "    })\n",
       "})"
      ]
     },
     "execution_count": 182,
     "metadata": {},
     "output_type": "execute_result"
    }
   ],
   "source": [
    "tokenized_data_bert"
   ]
  },
  {
   "cell_type": "code",
   "execution_count": 187,
   "metadata": {
    "execution": {
     "iopub.execute_input": "2025-03-27T02:04:09.544556Z",
     "iopub.status.busy": "2025-03-27T02:04:09.544211Z",
     "iopub.status.idle": "2025-03-27T02:04:09.549592Z",
     "shell.execute_reply": "2025-03-27T02:04:09.548749Z",
     "shell.execute_reply.started": "2025-03-27T02:04:09.544525Z"
    },
    "trusted": true
   },
   "outputs": [
    {
     "data": {
      "text/plain": [
       "Dataset({\n",
       "    features: ['headline', 'labels', 'input_ids', 'token_type_ids', 'attention_mask'],\n",
       "    num_rows: 25600\n",
       "})"
      ]
     },
     "execution_count": 187,
     "metadata": {},
     "output_type": "execute_result"
    }
   ],
   "source": [
    "tokenized_data_bert['train']"
   ]
  },
  {
   "cell_type": "code",
   "execution_count": 113,
   "metadata": {
    "execution": {
     "iopub.execute_input": "2025-03-26T23:34:28.482968Z",
     "iopub.status.busy": "2025-03-26T23:34:28.482589Z",
     "iopub.status.idle": "2025-03-26T23:34:28.487142Z",
     "shell.execute_reply": "2025-03-26T23:34:28.486022Z",
     "shell.execute_reply.started": "2025-03-26T23:34:28.482942Z"
    },
    "trusted": true
   },
   "outputs": [],
   "source": [
    "from transformers import AutoModelForSequenceClassification"
   ]
  },
  {
   "cell_type": "code",
   "execution_count": 114,
   "metadata": {
    "execution": {
     "iopub.execute_input": "2025-03-26T23:34:29.983522Z",
     "iopub.status.busy": "2025-03-26T23:34:29.983223Z",
     "iopub.status.idle": "2025-03-26T23:34:29.987334Z",
     "shell.execute_reply": "2025-03-26T23:34:29.986399Z",
     "shell.execute_reply.started": "2025-03-26T23:34:29.983497Z"
    },
    "trusted": true
   },
   "outputs": [],
   "source": [
    "from transformers import AutoConfig\n",
    "import torch"
   ]
  },
  {
   "cell_type": "code",
   "execution_count": 115,
   "metadata": {
    "execution": {
     "iopub.execute_input": "2025-03-26T23:34:33.336369Z",
     "iopub.status.busy": "2025-03-26T23:34:33.336066Z",
     "iopub.status.idle": "2025-03-26T23:34:33.340473Z",
     "shell.execute_reply": "2025-03-26T23:34:33.339534Z",
     "shell.execute_reply.started": "2025-03-26T23:34:33.336344Z"
    },
    "trusted": true
   },
   "outputs": [],
   "source": [
    "device='cuda'"
   ]
  },
  {
   "cell_type": "code",
   "execution_count": 188,
   "metadata": {
    "execution": {
     "iopub.execute_input": "2025-03-27T02:04:14.801591Z",
     "iopub.status.busy": "2025-03-27T02:04:14.801304Z",
     "iopub.status.idle": "2025-03-27T02:04:14.882159Z",
     "shell.execute_reply": "2025-03-27T02:04:14.881528Z",
     "shell.execute_reply.started": "2025-03-27T02:04:14.801569Z"
    },
    "trusted": true
   },
   "outputs": [],
   "source": [
    "config_bert=AutoConfig.from_pretrained(token_bert_name,num_labels=2)"
   ]
  },
  {
   "cell_type": "code",
   "execution_count": 116,
   "metadata": {
    "execution": {
     "iopub.execute_input": "2025-03-26T23:34:35.949443Z",
     "iopub.status.busy": "2025-03-26T23:34:35.949167Z",
     "iopub.status.idle": "2025-03-26T23:34:36.019762Z",
     "shell.execute_reply": "2025-03-26T23:34:36.019136Z",
     "shell.execute_reply.started": "2025-03-26T23:34:35.949419Z"
    },
    "trusted": true
   },
   "outputs": [],
   "source": [
    "config_distilbert=AutoConfig.from_pretrained(token_distilbert_name,num_labels=2)"
   ]
  },
  {
   "cell_type": "code",
   "execution_count": 117,
   "metadata": {
    "execution": {
     "iopub.execute_input": "2025-03-26T23:34:37.633664Z",
     "iopub.status.busy": "2025-03-26T23:34:37.633277Z",
     "iopub.status.idle": "2025-03-26T23:34:37.706273Z",
     "shell.execute_reply": "2025-03-26T23:34:37.705683Z",
     "shell.execute_reply.started": "2025-03-26T23:34:37.633598Z"
    },
    "trusted": true
   },
   "outputs": [],
   "source": [
    "config_tinybert=AutoConfig.from_pretrained(token_tinybert_name,num_labels=2)"
   ]
  },
  {
   "cell_type": "code",
   "execution_count": 118,
   "metadata": {
    "execution": {
     "iopub.execute_input": "2025-03-26T23:34:39.109650Z",
     "iopub.status.busy": "2025-03-26T23:34:39.109309Z",
     "iopub.status.idle": "2025-03-26T23:34:39.180383Z",
     "shell.execute_reply": "2025-03-26T23:34:39.179762Z",
     "shell.execute_reply.started": "2025-03-26T23:34:39.109587Z"
    },
    "trusted": true
   },
   "outputs": [],
   "source": [
    "config_roberta=AutoConfig.from_pretrained(token_roberta_name,num_labels=2)"
   ]
  },
  {
   "cell_type": "code",
   "execution_count": 46,
   "metadata": {
    "execution": {
     "iopub.execute_input": "2025-03-26T18:20:52.774977Z",
     "iopub.status.busy": "2025-03-26T18:20:52.774664Z",
     "iopub.status.idle": "2025-03-26T18:20:57.947050Z",
     "shell.execute_reply": "2025-03-26T18:20:57.946344Z",
     "shell.execute_reply.started": "2025-03-26T18:20:52.774954Z"
    },
    "trusted": true
   },
   "outputs": [
    {
     "data": {
      "application/vnd.jupyter.widget-view+json": {
       "model_id": "0ee04b7ca1274e81b9a73e7fc361474c",
       "version_major": 2,
       "version_minor": 0
      },
      "text/plain": [
       "model.safetensors:   0%|          | 0.00/440M [00:00<?, ?B/s]"
      ]
     },
     "metadata": {},
     "output_type": "display_data"
    },
    {
     "name": "stderr",
     "output_type": "stream",
     "text": [
      "Some weights of BertForSequenceClassification were not initialized from the model checkpoint at google-bert/bert-base-uncased and are newly initialized: ['classifier.bias', 'classifier.weight']\n",
      "You should probably TRAIN this model on a down-stream task to be able to use it for predictions and inference.\n"
     ]
    }
   ],
   "source": [
    "model_bert=AutoModelForSequenceClassification.from_pretrained(token_bert_name,config=config_bert,ignore_mismatched_sizes=True).to(device)"
   ]
  },
  {
   "cell_type": "code",
   "execution_count": 119,
   "metadata": {
    "execution": {
     "iopub.execute_input": "2025-03-26T23:34:45.793471Z",
     "iopub.status.busy": "2025-03-26T23:34:45.793012Z",
     "iopub.status.idle": "2025-03-26T23:34:50.059625Z",
     "shell.execute_reply": "2025-03-26T23:34:50.058921Z",
     "shell.execute_reply.started": "2025-03-26T23:34:45.793431Z"
    },
    "trusted": true
   },
   "outputs": [
    {
     "data": {
      "application/vnd.jupyter.widget-view+json": {
       "model_id": "2d357482775045699255f67bcea04555",
       "version_major": 2,
       "version_minor": 0
      },
      "text/plain": [
       "model.safetensors:   0%|          | 0.00/268M [00:00<?, ?B/s]"
      ]
     },
     "metadata": {},
     "output_type": "display_data"
    }
   ],
   "source": [
    "model_distilbert=AutoModelForSequenceClassification.from_pretrained(token_distilbert_name,config=config_distilbert,ignore_mismatched_sizes=True).to(device)"
   ]
  },
  {
   "cell_type": "code",
   "execution_count": 120,
   "metadata": {
    "execution": {
     "iopub.execute_input": "2025-03-26T23:34:50.060855Z",
     "iopub.status.busy": "2025-03-26T23:34:50.060599Z",
     "iopub.status.idle": "2025-03-26T23:34:52.786849Z",
     "shell.execute_reply": "2025-03-26T23:34:52.785841Z",
     "shell.execute_reply.started": "2025-03-26T23:34:50.060833Z"
    },
    "trusted": true
   },
   "outputs": [
    {
     "data": {
      "application/vnd.jupyter.widget-view+json": {
       "model_id": "f1ef206c10f5405991d710150388b18c",
       "version_major": 2,
       "version_minor": 0
      },
      "text/plain": [
       "pytorch_model.bin:   0%|          | 0.00/268M [00:00<?, ?B/s]"
      ]
     },
     "metadata": {},
     "output_type": "display_data"
    },
    {
     "name": "stderr",
     "output_type": "stream",
     "text": [
      "Invalid model-index. Not loading eval results into CardData.\n",
      "Some weights of BertForSequenceClassification were not initialized from the model checkpoint at Intel/dynamic_tinybert and are newly initialized: ['bert.pooler.dense.bias', 'bert.pooler.dense.weight', 'classifier.bias', 'classifier.weight']\n",
      "You should probably TRAIN this model on a down-stream task to be able to use it for predictions and inference.\n"
     ]
    },
    {
     "data": {
      "application/vnd.jupyter.widget-view+json": {
       "model_id": "db7c40bae3d44d2596297b991d929ecc",
       "version_major": 2,
       "version_minor": 0
      },
      "text/plain": [
       "model.safetensors:   0%|          | 0.00/268M [00:00<?, ?B/s]"
      ]
     },
     "metadata": {},
     "output_type": "display_data"
    }
   ],
   "source": [
    "model_tinybert=AutoModelForSequenceClassification.from_pretrained(token_tinybert_name,config=config_tinybert,ignore_mismatched_sizes=True).to(device)"
   ]
  },
  {
   "cell_type": "code",
   "execution_count": 121,
   "metadata": {
    "execution": {
     "iopub.execute_input": "2025-03-26T23:34:54.410398Z",
     "iopub.status.busy": "2025-03-26T23:34:54.410024Z",
     "iopub.status.idle": "2025-03-26T23:34:58.669097Z",
     "shell.execute_reply": "2025-03-26T23:34:58.668094Z",
     "shell.execute_reply.started": "2025-03-26T23:34:54.410366Z"
    },
    "trusted": true
   },
   "outputs": [
    {
     "data": {
      "application/vnd.jupyter.widget-view+json": {
       "model_id": "9b5a2dc08d6d44c1896baf4c6cc9d6f3",
       "version_major": 2,
       "version_minor": 0
      },
      "text/plain": [
       "pytorch_model.bin:   0%|          | 0.00/501M [00:00<?, ?B/s]"
      ]
     },
     "metadata": {},
     "output_type": "display_data"
    },
    {
     "name": "stderr",
     "output_type": "stream",
     "text": [
      "Some weights of the model checkpoint at cardiffnlp/twitter-roberta-base-sentiment-latest were not used when initializing RobertaForSequenceClassification: ['roberta.pooler.dense.bias', 'roberta.pooler.dense.weight']\n",
      "- This IS expected if you are initializing RobertaForSequenceClassification from the checkpoint of a model trained on another task or with another architecture (e.g. initializing a BertForSequenceClassification model from a BertForPreTraining model).\n",
      "- This IS NOT expected if you are initializing RobertaForSequenceClassification from the checkpoint of a model that you expect to be exactly identical (initializing a BertForSequenceClassification model from a BertForSequenceClassification model).\n",
      "Some weights of RobertaForSequenceClassification were not initialized from the model checkpoint at cardiffnlp/twitter-roberta-base-sentiment-latest and are newly initialized because the shapes did not match:\n",
      "- classifier.out_proj.weight: found shape torch.Size([3, 768]) in the checkpoint and torch.Size([2, 768]) in the model instantiated\n",
      "- classifier.out_proj.bias: found shape torch.Size([3]) in the checkpoint and torch.Size([2]) in the model instantiated\n",
      "You should probably TRAIN this model on a down-stream task to be able to use it for predictions and inference.\n"
     ]
    }
   ],
   "source": [
    "model_roberta=AutoModelForSequenceClassification.from_pretrained(token_roberta_name,config=config_roberta,ignore_mismatched_sizes=True).to(device)"
   ]
  },
  {
   "cell_type": "code",
   "execution_count": 217,
   "metadata": {
    "execution": {
     "iopub.execute_input": "2025-03-27T02:29:33.618629Z",
     "iopub.status.busy": "2025-03-27T02:29:33.618276Z",
     "iopub.status.idle": "2025-03-27T02:29:33.623441Z",
     "shell.execute_reply": "2025-03-27T02:29:33.622498Z",
     "shell.execute_reply.started": "2025-03-27T02:29:33.618579Z"
    },
    "trusted": true
   },
   "outputs": [],
   "source": [
    "from sklearn.metrics import accuracy_score, precision_score, recall_score, f1_score\n",
    "\n",
    "def compute_metric(pred):\n",
    "    label=pred.label_ids\n",
    "    predict=pred.predictions.argmax(-1)\n",
    "\n",
    "    f1=f1_score(label,predict)\n",
    "    accuracy=accuracy_score(label,predict)\n",
    "    precision=precision_score(label,predict)\n",
    "    recall=recall_score(label,predict)\n",
    "    return {'f1': f1, 'accuracy': accuracy,'precision':precision,'recall':recall}"
   ]
  },
  {
   "cell_type": "code",
   "execution_count": 123,
   "metadata": {
    "execution": {
     "iopub.execute_input": "2025-03-26T23:35:04.908912Z",
     "iopub.status.busy": "2025-03-26T23:35:04.908571Z",
     "iopub.status.idle": "2025-03-26T23:35:07.223783Z",
     "shell.execute_reply": "2025-03-26T23:35:07.222908Z",
     "shell.execute_reply.started": "2025-03-26T23:35:04.908885Z"
    },
    "trusted": true
   },
   "outputs": [],
   "source": [
    "from transformers import TrainingArguments,Trainer"
   ]
  },
  {
   "cell_type": "code",
   "execution_count": 53,
   "metadata": {
    "execution": {
     "iopub.execute_input": "2025-03-26T18:21:27.782825Z",
     "iopub.status.busy": "2025-03-26T18:21:27.782517Z",
     "iopub.status.idle": "2025-03-26T18:21:27.819347Z",
     "shell.execute_reply": "2025-03-26T18:21:27.818611Z",
     "shell.execute_reply.started": "2025-03-26T18:21:27.782801Z"
    },
    "trusted": true
   },
   "outputs": [
    {
     "name": "stderr",
     "output_type": "stream",
     "text": [
      "/usr/local/lib/python3.10/dist-packages/transformers/training_args.py:1575: FutureWarning: `evaluation_strategy` is deprecated and will be removed in version 4.46 of 🤗 Transformers. Use `eval_strategy` instead\n",
      "  warnings.warn(\n"
     ]
    }
   ],
   "source": [
    "train_args_bert=TrainingArguments(\n",
    "    output_dir='./results',\n",
    "    evaluation_strategy='epoch',\n",
    "    save_strategy='epoch',\n",
    "    learning_rate=2e-5,\n",
    "    disable_tqdm=False,\n",
    "    num_train_epochs=5,\n",
    "    weight_decay=0.01,\n",
    "    load_best_model_at_end=True,\n",
    "    report_to=\"none\"\n",
    ")"
   ]
  },
  {
   "cell_type": "code",
   "execution_count": 124,
   "metadata": {
    "execution": {
     "iopub.execute_input": "2025-03-26T23:35:07.947779Z",
     "iopub.status.busy": "2025-03-26T23:35:07.947420Z",
     "iopub.status.idle": "2025-03-26T23:35:07.952531Z",
     "shell.execute_reply": "2025-03-26T23:35:07.951860Z",
     "shell.execute_reply.started": "2025-03-26T23:35:07.947748Z"
    },
    "trusted": true
   },
   "outputs": [],
   "source": [
    "import tqdm\n",
    "tqdm.tqdm.pandas()"
   ]
  },
  {
   "cell_type": "markdown",
   "metadata": {},
   "source": [
    "**bert**"
   ]
  },
  {
   "cell_type": "code",
   "execution_count": 55,
   "metadata": {
    "execution": {
     "iopub.execute_input": "2025-03-26T18:21:32.275025Z",
     "iopub.status.busy": "2025-03-26T18:21:32.274626Z",
     "iopub.status.idle": "2025-03-26T18:21:32.297974Z",
     "shell.execute_reply": "2025-03-26T18:21:32.297127Z",
     "shell.execute_reply.started": "2025-03-26T18:21:32.274993Z"
    },
    "trusted": true
   },
   "outputs": [
    {
     "name": "stderr",
     "output_type": "stream",
     "text": [
      "<ipython-input-55-e3f3f57287c8>:1: FutureWarning: `tokenizer` is deprecated and will be removed in version 5.0.0 for `Trainer.__init__`. Use `processing_class` instead.\n",
      "  trainer=Trainer(model=model_bert,args=train_args_bert,train_dataset=tokenized_data_bert['train'],eval_dataset=tokenized_data_bert['test'],compute_metrics=compute_metric,tokenizer=token_bert)\n"
     ]
    }
   ],
   "source": [
    "trainer=Trainer(model=model_bert,args=train_args_bert,train_dataset=tokenized_data_bert['train'],eval_dataset=tokenized_data_bert['test'],compute_metrics=compute_metric,tokenizer=token_bert)"
   ]
  },
  {
   "cell_type": "code",
   "execution_count": 56,
   "metadata": {
    "execution": {
     "iopub.execute_input": "2025-03-26T18:21:35.968640Z",
     "iopub.status.busy": "2025-03-26T18:21:35.968306Z",
     "iopub.status.idle": "2025-03-26T18:48:04.384426Z",
     "shell.execute_reply": "2025-03-26T18:48:04.383743Z",
     "shell.execute_reply.started": "2025-03-26T18:21:35.968611Z"
    },
    "trusted": true
   },
   "outputs": [
    {
     "name": "stderr",
     "output_type": "stream",
     "text": [
      "/usr/local/lib/python3.10/dist-packages/torch/nn/parallel/_functions.py:71: UserWarning: Was asked to gather along dimension 0, but all input tensors were scalars; will instead unsqueeze and return a vector.\n",
      "  warnings.warn(\n"
     ]
    },
    {
     "data": {
      "text/html": [
       "\n",
       "    <div>\n",
       "      \n",
       "      <progress value='8000' max='8000' style='width:300px; height:20px; vertical-align: middle;'></progress>\n",
       "      [8000/8000 26:25, Epoch 5/5]\n",
       "    </div>\n",
       "    <table border=\"1\" class=\"dataframe\">\n",
       "  <thead>\n",
       " <tr style=\"text-align: left;\">\n",
       "      <th>Epoch</th>\n",
       "      <th>Training Loss</th>\n",
       "      <th>Validation Loss</th>\n",
       "      <th>F1</th>\n",
       "      <th>Accuracy</th>\n",
       "      <th>Precision</th>\n",
       "      <th>Recall</th>\n",
       "    </tr>\n",
       "  </thead>\n",
       "  <tbody>\n",
       "    <tr>\n",
       "      <td>1</td>\n",
       "      <td>0.057600</td>\n",
       "      <td>0.041969</td>\n",
       "      <td>0.989464</td>\n",
       "      <td>0.989688</td>\n",
       "      <td>0.990096</td>\n",
       "      <td>0.988832</td>\n",
       "    </tr>\n",
       "    <tr>\n",
       "      <td>2</td>\n",
       "      <td>0.016800</td>\n",
       "      <td>0.056193</td>\n",
       "      <td>0.988653</td>\n",
       "      <td>0.988906</td>\n",
       "      <td>0.990394</td>\n",
       "      <td>0.986918</td>\n",
       "    </tr>\n",
       "    <tr>\n",
       "      <td>3</td>\n",
       "      <td>0.003200</td>\n",
       "      <td>0.060378</td>\n",
       "      <td>0.989464</td>\n",
       "      <td>0.989688</td>\n",
       "      <td>0.990096</td>\n",
       "      <td>0.988832</td>\n",
       "    </tr>\n",
       "    <tr>\n",
       "      <td>4</td>\n",
       "      <td>0.007400</td>\n",
       "      <td>0.068365</td>\n",
       "      <td>0.989773</td>\n",
       "      <td>0.990000</td>\n",
       "      <td>0.991357</td>\n",
       "      <td>0.988194</td>\n",
       "    </tr>\n",
       "    <tr>\n",
       "      <td>5</td>\n",
       "      <td>0.000000</td>\n",
       "      <td>0.074308</td>\n",
       "      <td>0.989625</td>\n",
       "      <td>0.989844</td>\n",
       "      <td>0.990099</td>\n",
       "      <td>0.989151</td>\n",
       "    </tr>\n",
       "  </tbody>\n",
       "</table><p>"
      ],
      "text/plain": [
       "<IPython.core.display.HTML object>"
      ]
     },
     "metadata": {},
     "output_type": "display_data"
    },
    {
     "name": "stderr",
     "output_type": "stream",
     "text": [
      "/usr/local/lib/python3.10/dist-packages/torch/nn/parallel/_functions.py:71: UserWarning: Was asked to gather along dimension 0, but all input tensors were scalars; will instead unsqueeze and return a vector.\n",
      "  warnings.warn(\n",
      "/usr/local/lib/python3.10/dist-packages/torch/nn/parallel/_functions.py:71: UserWarning: Was asked to gather along dimension 0, but all input tensors were scalars; will instead unsqueeze and return a vector.\n",
      "  warnings.warn(\n",
      "/usr/local/lib/python3.10/dist-packages/torch/nn/parallel/_functions.py:71: UserWarning: Was asked to gather along dimension 0, but all input tensors were scalars; will instead unsqueeze and return a vector.\n",
      "  warnings.warn(\n",
      "/usr/local/lib/python3.10/dist-packages/torch/nn/parallel/_functions.py:71: UserWarning: Was asked to gather along dimension 0, but all input tensors were scalars; will instead unsqueeze and return a vector.\n",
      "  warnings.warn(\n",
      "/usr/local/lib/python3.10/dist-packages/torch/nn/parallel/_functions.py:71: UserWarning: Was asked to gather along dimension 0, but all input tensors were scalars; will instead unsqueeze and return a vector.\n",
      "  warnings.warn(\n"
     ]
    },
    {
     "data": {
      "text/plain": [
       "TrainOutput(global_step=8000, training_loss=0.020419472970068454, metrics={'train_runtime': 1588.0202, 'train_samples_per_second': 80.604, 'train_steps_per_second': 5.038, 'total_flos': 2219547307473600.0, 'train_loss': 0.020419472970068454, 'epoch': 5.0})"
      ]
     },
     "execution_count": 56,
     "metadata": {},
     "output_type": "execute_result"
    }
   ],
   "source": [
    "trainer.train()"
   ]
  },
  {
   "cell_type": "markdown",
   "metadata": {},
   "source": [
    "**distilbert**"
   ]
  },
  {
   "cell_type": "code",
   "execution_count": 125,
   "metadata": {
    "execution": {
     "iopub.execute_input": "2025-03-26T23:35:11.441691Z",
     "iopub.status.busy": "2025-03-26T23:35:11.441235Z",
     "iopub.status.idle": "2025-03-26T23:35:11.481599Z",
     "shell.execute_reply": "2025-03-26T23:35:11.480334Z",
     "shell.execute_reply.started": "2025-03-26T23:35:11.441648Z"
    },
    "trusted": true
   },
   "outputs": [
    {
     "name": "stderr",
     "output_type": "stream",
     "text": [
      "/usr/local/lib/python3.10/dist-packages/transformers/training_args.py:1575: FutureWarning: `evaluation_strategy` is deprecated and will be removed in version 4.46 of 🤗 Transformers. Use `eval_strategy` instead\n",
      "  warnings.warn(\n"
     ]
    }
   ],
   "source": [
    "train_args_distilbert=TrainingArguments(\n",
    "    output_dir='./results_distil',\n",
    "    evaluation_strategy='epoch',\n",
    "    save_strategy='epoch',\n",
    "    learning_rate=2e-5,\n",
    "    disable_tqdm=False,\n",
    "    num_train_epochs=5,\n",
    "    weight_decay=0.01,\n",
    "    load_best_model_at_end=True,\n",
    "    report_to=\"none\"\n",
    ")"
   ]
  },
  {
   "cell_type": "code",
   "execution_count": 126,
   "metadata": {
    "execution": {
     "iopub.execute_input": "2025-03-26T23:35:13.385323Z",
     "iopub.status.busy": "2025-03-26T23:35:13.384998Z",
     "iopub.status.idle": "2025-03-26T23:35:14.637001Z",
     "shell.execute_reply": "2025-03-26T23:35:14.635979Z",
     "shell.execute_reply.started": "2025-03-26T23:35:13.385296Z"
    },
    "trusted": true
   },
   "outputs": [
    {
     "name": "stderr",
     "output_type": "stream",
     "text": [
      "<ipython-input-126-1e332d440681>:1: FutureWarning: `tokenizer` is deprecated and will be removed in version 5.0.0 for `Trainer.__init__`. Use `processing_class` instead.\n",
      "  trainer_distilbert=Trainer(model=model_distilbert,args=train_args_distilbert,train_dataset=tokenized_data_distilbert['train'],eval_dataset=tokenized_data_distilbert['test'],compute_metrics=compute_metric,tokenizer=token_distilbert)\n"
     ]
    }
   ],
   "source": [
    "trainer_distilbert=Trainer(model=model_distilbert,args=train_args_distilbert,train_dataset=tokenized_data_distilbert['train'],eval_dataset=tokenized_data_distilbert['test'],compute_metrics=compute_metric,tokenizer=token_distilbert)"
   ]
  },
  {
   "cell_type": "code",
   "execution_count": 156,
   "metadata": {
    "execution": {
     "iopub.execute_input": "2025-03-27T00:57:32.410105Z",
     "iopub.status.busy": "2025-03-27T00:57:32.409767Z",
     "iopub.status.idle": "2025-03-27T01:12:26.945159Z",
     "shell.execute_reply": "2025-03-27T01:12:26.944443Z",
     "shell.execute_reply.started": "2025-03-27T00:57:32.410079Z"
    },
    "trusted": true
   },
   "outputs": [
    {
     "name": "stderr",
     "output_type": "stream",
     "text": [
      "/usr/local/lib/python3.10/dist-packages/torch/nn/parallel/_functions.py:71: UserWarning: Was asked to gather along dimension 0, but all input tensors were scalars; will instead unsqueeze and return a vector.\n",
      "  warnings.warn(\n"
     ]
    },
    {
     "data": {
      "text/html": [
       "\n",
       "    <div>\n",
       "      \n",
       "      <progress value='8000' max='8000' style='width:300px; height:20px; vertical-align: middle;'></progress>\n",
       "      [8000/8000 14:53, Epoch 5/5]\n",
       "    </div>\n",
       "    <table border=\"1\" class=\"dataframe\">\n",
       "  <thead>\n",
       " <tr style=\"text-align: left;\">\n",
       "      <th>Epoch</th>\n",
       "      <th>Training Loss</th>\n",
       "      <th>Validation Loss</th>\n",
       "      <th>F1</th>\n",
       "      <th>Accuracy</th>\n",
       "      <th>Precision</th>\n",
       "      <th>Recall</th>\n",
       "    </tr>\n",
       "  </thead>\n",
       "  <tbody>\n",
       "    <tr>\n",
       "      <td>1</td>\n",
       "      <td>0.058400</td>\n",
       "      <td>0.047108</td>\n",
       "      <td>0.987114</td>\n",
       "      <td>0.987031</td>\n",
       "      <td>0.989110</td>\n",
       "      <td>0.985126</td>\n",
       "    </tr>\n",
       "    <tr>\n",
       "      <td>2</td>\n",
       "      <td>0.017000</td>\n",
       "      <td>0.067663</td>\n",
       "      <td>0.986584</td>\n",
       "      <td>0.986406</td>\n",
       "      <td>0.981891</td>\n",
       "      <td>0.991323</td>\n",
       "    </tr>\n",
       "    <tr>\n",
       "      <td>3</td>\n",
       "      <td>0.002200</td>\n",
       "      <td>0.080853</td>\n",
       "      <td>0.988516</td>\n",
       "      <td>0.988437</td>\n",
       "      <td>0.990053</td>\n",
       "      <td>0.986985</td>\n",
       "    </tr>\n",
       "    <tr>\n",
       "      <td>4</td>\n",
       "      <td>0.000600</td>\n",
       "      <td>0.097844</td>\n",
       "      <td>0.987792</td>\n",
       "      <td>0.987656</td>\n",
       "      <td>0.985203</td>\n",
       "      <td>0.990394</td>\n",
       "    </tr>\n",
       "    <tr>\n",
       "      <td>5</td>\n",
       "      <td>0.001500</td>\n",
       "      <td>0.100627</td>\n",
       "      <td>0.987933</td>\n",
       "      <td>0.987812</td>\n",
       "      <td>0.986407</td>\n",
       "      <td>0.989464</td>\n",
       "    </tr>\n",
       "  </tbody>\n",
       "</table><p>"
      ],
      "text/plain": [
       "<IPython.core.display.HTML object>"
      ]
     },
     "metadata": {},
     "output_type": "display_data"
    },
    {
     "name": "stderr",
     "output_type": "stream",
     "text": [
      "/usr/local/lib/python3.10/dist-packages/torch/nn/parallel/_functions.py:71: UserWarning: Was asked to gather along dimension 0, but all input tensors were scalars; will instead unsqueeze and return a vector.\n",
      "  warnings.warn(\n",
      "/usr/local/lib/python3.10/dist-packages/torch/nn/parallel/_functions.py:71: UserWarning: Was asked to gather along dimension 0, but all input tensors were scalars; will instead unsqueeze and return a vector.\n",
      "  warnings.warn(\n",
      "/usr/local/lib/python3.10/dist-packages/torch/nn/parallel/_functions.py:71: UserWarning: Was asked to gather along dimension 0, but all input tensors were scalars; will instead unsqueeze and return a vector.\n",
      "  warnings.warn(\n",
      "/usr/local/lib/python3.10/dist-packages/torch/nn/parallel/_functions.py:71: UserWarning: Was asked to gather along dimension 0, but all input tensors were scalars; will instead unsqueeze and return a vector.\n",
      "  warnings.warn(\n",
      "/usr/local/lib/python3.10/dist-packages/torch/nn/parallel/_functions.py:71: UserWarning: Was asked to gather along dimension 0, but all input tensors were scalars; will instead unsqueeze and return a vector.\n",
      "  warnings.warn(\n"
     ]
    },
    {
     "data": {
      "text/plain": [
       "TrainOutput(global_step=8000, training_loss=0.023366370795411057, metrics={'train_runtime': 894.1115, 'train_samples_per_second': 143.159, 'train_steps_per_second': 8.947, 'total_flos': 1168602553305984.0, 'train_loss': 0.023366370795411057, 'epoch': 5.0})"
      ]
     },
     "execution_count": 156,
     "metadata": {},
     "output_type": "execute_result"
    }
   ],
   "source": [
    "trainer_distilbert.train()"
   ]
  },
  {
   "cell_type": "code",
   "execution_count": 157,
   "metadata": {
    "execution": {
     "iopub.execute_input": "2025-03-27T01:25:08.872896Z",
     "iopub.status.busy": "2025-03-27T01:25:08.872542Z",
     "iopub.status.idle": "2025-03-27T01:25:23.578635Z",
     "shell.execute_reply": "2025-03-27T01:25:23.577698Z",
     "shell.execute_reply.started": "2025-03-27T01:25:08.872871Z"
    },
    "trusted": true
   },
   "outputs": [
    {
     "name": "stderr",
     "output_type": "stream",
     "text": [
      "/usr/local/lib/python3.10/dist-packages/torch/nn/parallel/_functions.py:71: UserWarning: Was asked to gather along dimension 0, but all input tensors were scalars; will instead unsqueeze and return a vector.\n",
      "  warnings.warn(\n"
     ]
    },
    {
     "data": {
      "text/html": [],
      "text/plain": [
       "<IPython.core.display.HTML object>"
      ]
     },
     "metadata": {},
     "output_type": "display_data"
    }
   ],
   "source": [
    "metrics_3=trainer_distilbert.evaluate()"
   ]
  },
  {
   "cell_type": "code",
   "execution_count": 158,
   "metadata": {
    "execution": {
     "iopub.execute_input": "2025-03-27T01:25:25.448529Z",
     "iopub.status.busy": "2025-03-27T01:25:25.448198Z",
     "iopub.status.idle": "2025-03-27T01:25:25.454169Z",
     "shell.execute_reply": "2025-03-27T01:25:25.453407Z",
     "shell.execute_reply.started": "2025-03-27T01:25:25.448502Z"
    },
    "trusted": true
   },
   "outputs": [
    {
     "data": {
      "text/plain": [
       "{'eval_loss': 0.04710831120610237,\n",
       " 'eval_f1': 0.9871138022046266,\n",
       " 'eval_accuracy': 0.98703125,\n",
       " 'eval_precision': 0.9891101431238333,\n",
       " 'eval_recall': 0.9851255035636814,\n",
       " 'eval_runtime': 14.6978,\n",
       " 'eval_samples_per_second': 435.441,\n",
       " 'eval_steps_per_second': 27.215,\n",
       " 'epoch': 5.0}"
      ]
     },
     "execution_count": 158,
     "metadata": {},
     "output_type": "execute_result"
    }
   ],
   "source": [
    "metrics_3"
   ]
  },
  {
   "cell_type": "code",
   "execution_count": 176,
   "metadata": {
    "execution": {
     "iopub.execute_input": "2025-03-27T01:41:03.999969Z",
     "iopub.status.busy": "2025-03-27T01:41:03.999654Z",
     "iopub.status.idle": "2025-03-27T01:41:04.003382Z",
     "shell.execute_reply": "2025-03-27T01:41:04.002680Z",
     "shell.execute_reply.started": "2025-03-27T01:41:03.999941Z"
    },
    "trusted": true
   },
   "outputs": [],
   "source": [
    "distil_loss=metrics_3['eval_loss']"
   ]
  },
  {
   "cell_type": "markdown",
   "metadata": {},
   "source": [
    "**tinybert**"
   ]
  },
  {
   "cell_type": "code",
   "execution_count": 127,
   "metadata": {
    "execution": {
     "iopub.execute_input": "2025-03-26T23:35:24.785826Z",
     "iopub.status.busy": "2025-03-26T23:35:24.785510Z",
     "iopub.status.idle": "2025-03-26T23:35:24.820654Z",
     "shell.execute_reply": "2025-03-26T23:35:24.819704Z",
     "shell.execute_reply.started": "2025-03-26T23:35:24.785802Z"
    },
    "trusted": true
   },
   "outputs": [
    {
     "name": "stderr",
     "output_type": "stream",
     "text": [
      "/usr/local/lib/python3.10/dist-packages/transformers/training_args.py:1575: FutureWarning: `evaluation_strategy` is deprecated and will be removed in version 4.46 of 🤗 Transformers. Use `eval_strategy` instead\n",
      "  warnings.warn(\n"
     ]
    }
   ],
   "source": [
    "train_args_tinybert=TrainingArguments(\n",
    "    output_dir='./results_tiny',\n",
    "    evaluation_strategy='epoch',\n",
    "    save_strategy='epoch',\n",
    "    learning_rate=2e-5,\n",
    "    disable_tqdm=False,\n",
    "    num_train_epochs=5,\n",
    "    weight_decay=0.01,\n",
    "    load_best_model_at_end=True,\n",
    "    report_to=\"none\"\n",
    ")"
   ]
  },
  {
   "cell_type": "code",
   "execution_count": 128,
   "metadata": {
    "execution": {
     "iopub.execute_input": "2025-03-26T23:35:28.568508Z",
     "iopub.status.busy": "2025-03-26T23:35:28.568176Z",
     "iopub.status.idle": "2025-03-26T23:35:28.581396Z",
     "shell.execute_reply": "2025-03-26T23:35:28.580377Z",
     "shell.execute_reply.started": "2025-03-26T23:35:28.568478Z"
    },
    "trusted": true
   },
   "outputs": [
    {
     "name": "stderr",
     "output_type": "stream",
     "text": [
      "<ipython-input-128-1abe6074cc50>:1: FutureWarning: `tokenizer` is deprecated and will be removed in version 5.0.0 for `Trainer.__init__`. Use `processing_class` instead.\n",
      "  trainer_tinybert=Trainer(model=model_tinybert,args=train_args_tinybert,train_dataset=tokenized_data_tinybert['train'],eval_dataset=tokenized_data_tinybert['test'],compute_metrics=compute_metric,tokenizer=token_tinybert)\n"
     ]
    }
   ],
   "source": [
    "trainer_tinybert=Trainer(model=model_tinybert,args=train_args_tinybert,train_dataset=tokenized_data_tinybert['train'],eval_dataset=tokenized_data_tinybert['test'],compute_metrics=compute_metric,tokenizer=token_tinybert)"
   ]
  },
  {
   "cell_type": "code",
   "execution_count": 146,
   "metadata": {
    "execution": {
     "iopub.execute_input": "2025-03-27T00:15:33.991897Z",
     "iopub.status.busy": "2025-03-27T00:15:33.991527Z",
     "iopub.status.idle": "2025-03-27T00:30:34.817686Z",
     "shell.execute_reply": "2025-03-27T00:30:34.816995Z",
     "shell.execute_reply.started": "2025-03-27T00:15:33.991870Z"
    },
    "trusted": true
   },
   "outputs": [
    {
     "name": "stderr",
     "output_type": "stream",
     "text": [
      "/usr/local/lib/python3.10/dist-packages/torch/nn/parallel/_functions.py:71: UserWarning: Was asked to gather along dimension 0, but all input tensors were scalars; will instead unsqueeze and return a vector.\n",
      "  warnings.warn(\n"
     ]
    },
    {
     "data": {
      "text/html": [
       "\n",
       "    <div>\n",
       "      \n",
       "      <progress value='8000' max='8000' style='width:300px; height:20px; vertical-align: middle;'></progress>\n",
       "      [8000/8000 15:00, Epoch 5/5]\n",
       "    </div>\n",
       "    <table border=\"1\" class=\"dataframe\">\n",
       "  <thead>\n",
       " <tr style=\"text-align: left;\">\n",
       "      <th>Epoch</th>\n",
       "      <th>Training Loss</th>\n",
       "      <th>Validation Loss</th>\n",
       "      <th>F1</th>\n",
       "      <th>Accuracy</th>\n",
       "      <th>Precision</th>\n",
       "      <th>Recall</th>\n",
       "    </tr>\n",
       "  </thead>\n",
       "  <tbody>\n",
       "    <tr>\n",
       "      <td>1</td>\n",
       "      <td>0.069400</td>\n",
       "      <td>0.051374</td>\n",
       "      <td>0.987440</td>\n",
       "      <td>0.987344</td>\n",
       "      <td>0.988206</td>\n",
       "      <td>0.986675</td>\n",
       "    </tr>\n",
       "    <tr>\n",
       "      <td>2</td>\n",
       "      <td>0.032300</td>\n",
       "      <td>0.085656</td>\n",
       "      <td>0.982698</td>\n",
       "      <td>0.982344</td>\n",
       "      <td>0.971247</td>\n",
       "      <td>0.994422</td>\n",
       "    </tr>\n",
       "    <tr>\n",
       "      <td>3</td>\n",
       "      <td>0.008700</td>\n",
       "      <td>0.069440</td>\n",
       "      <td>0.990198</td>\n",
       "      <td>0.990156</td>\n",
       "      <td>0.994375</td>\n",
       "      <td>0.986055</td>\n",
       "    </tr>\n",
       "    <tr>\n",
       "      <td>4</td>\n",
       "      <td>0.005800</td>\n",
       "      <td>0.098901</td>\n",
       "      <td>0.987209</td>\n",
       "      <td>0.987031</td>\n",
       "      <td>0.981913</td>\n",
       "      <td>0.992563</td>\n",
       "    </tr>\n",
       "    <tr>\n",
       "      <td>5</td>\n",
       "      <td>0.002200</td>\n",
       "      <td>0.087068</td>\n",
       "      <td>0.989454</td>\n",
       "      <td>0.989375</td>\n",
       "      <td>0.990376</td>\n",
       "      <td>0.988534</td>\n",
       "    </tr>\n",
       "  </tbody>\n",
       "</table><p>"
      ],
      "text/plain": [
       "<IPython.core.display.HTML object>"
      ]
     },
     "metadata": {},
     "output_type": "display_data"
    },
    {
     "name": "stderr",
     "output_type": "stream",
     "text": [
      "/usr/local/lib/python3.10/dist-packages/torch/nn/parallel/_functions.py:71: UserWarning: Was asked to gather along dimension 0, but all input tensors were scalars; will instead unsqueeze and return a vector.\n",
      "  warnings.warn(\n",
      "/usr/local/lib/python3.10/dist-packages/torch/nn/parallel/_functions.py:71: UserWarning: Was asked to gather along dimension 0, but all input tensors were scalars; will instead unsqueeze and return a vector.\n",
      "  warnings.warn(\n",
      "/usr/local/lib/python3.10/dist-packages/torch/nn/parallel/_functions.py:71: UserWarning: Was asked to gather along dimension 0, but all input tensors were scalars; will instead unsqueeze and return a vector.\n",
      "  warnings.warn(\n",
      "/usr/local/lib/python3.10/dist-packages/torch/nn/parallel/_functions.py:71: UserWarning: Was asked to gather along dimension 0, but all input tensors were scalars; will instead unsqueeze and return a vector.\n",
      "  warnings.warn(\n",
      "/usr/local/lib/python3.10/dist-packages/torch/nn/parallel/_functions.py:71: UserWarning: Was asked to gather along dimension 0, but all input tensors were scalars; will instead unsqueeze and return a vector.\n",
      "  warnings.warn(\n"
     ]
    },
    {
     "data": {
      "text/plain": [
       "TrainOutput(global_step=8000, training_loss=0.029907455690205097, metrics={'train_runtime': 900.3547, 'train_samples_per_second': 142.166, 'train_steps_per_second': 8.885, 'total_flos': 1168602553305984.0, 'train_loss': 0.029907455690205097, 'epoch': 5.0})"
      ]
     },
     "execution_count": 146,
     "metadata": {},
     "output_type": "execute_result"
    }
   ],
   "source": [
    "trainer_tinybert.train()"
   ]
  },
  {
   "cell_type": "code",
   "execution_count": 147,
   "metadata": {
    "execution": {
     "iopub.execute_input": "2025-03-27T00:51:41.636679Z",
     "iopub.status.busy": "2025-03-27T00:51:41.636274Z",
     "iopub.status.idle": "2025-03-27T00:51:57.381750Z",
     "shell.execute_reply": "2025-03-27T00:51:57.380859Z",
     "shell.execute_reply.started": "2025-03-27T00:51:41.636653Z"
    },
    "trusted": true
   },
   "outputs": [
    {
     "name": "stderr",
     "output_type": "stream",
     "text": [
      "/usr/local/lib/python3.10/dist-packages/torch/nn/parallel/_functions.py:71: UserWarning: Was asked to gather along dimension 0, but all input tensors were scalars; will instead unsqueeze and return a vector.\n",
      "  warnings.warn(\n"
     ]
    },
    {
     "data": {
      "text/html": [
       "\n",
       "    <div>\n",
       "      \n",
       "      <progress value='400' max='400' style='width:300px; height:20px; vertical-align: middle;'></progress>\n",
       "      [400/400 00:15]\n",
       "    </div>\n",
       "    "
      ],
      "text/plain": [
       "<IPython.core.display.HTML object>"
      ]
     },
     "metadata": {},
     "output_type": "display_data"
    },
    {
     "name": "stdout",
     "output_type": "stream",
     "text": [
      "Accuracy: 0.9873\n",
      "Precision: 0.9882\n",
      "Recall: 0.9867\n",
      "F1 Score: 0.9874\n"
     ]
    }
   ],
   "source": [
    "metrics = trainer_tinybert.evaluate()\n",
    "\n",
    "print(f\"Accuracy: {metrics['eval_accuracy']:.4f}\")\n",
    "print(f\"Precision: {metrics['eval_precision']:.4f}\")\n",
    "print(f\"Recall: {metrics['eval_recall']:.4f}\")\n",
    "print(f\"F1 Score: {metrics['eval_f1']:.4f}\")"
   ]
  },
  {
   "cell_type": "code",
   "execution_count": 175,
   "metadata": {
    "execution": {
     "iopub.execute_input": "2025-03-27T01:40:22.810090Z",
     "iopub.status.busy": "2025-03-27T01:40:22.809771Z",
     "iopub.status.idle": "2025-03-27T01:40:22.814001Z",
     "shell.execute_reply": "2025-03-27T01:40:22.813007Z",
     "shell.execute_reply.started": "2025-03-27T01:40:22.810066Z"
    },
    "trusted": true
   },
   "outputs": [],
   "source": [
    "tb_loss=metrics['eval_loss']"
   ]
  },
  {
   "cell_type": "markdown",
   "metadata": {},
   "source": [
    "**roberta**"
   ]
  },
  {
   "cell_type": "code",
   "execution_count": 129,
   "metadata": {
    "execution": {
     "iopub.execute_input": "2025-03-26T23:35:33.200174Z",
     "iopub.status.busy": "2025-03-26T23:35:33.199856Z",
     "iopub.status.idle": "2025-03-26T23:35:33.233396Z",
     "shell.execute_reply": "2025-03-26T23:35:33.232464Z",
     "shell.execute_reply.started": "2025-03-26T23:35:33.200151Z"
    },
    "trusted": true
   },
   "outputs": [
    {
     "name": "stderr",
     "output_type": "stream",
     "text": [
      "/usr/local/lib/python3.10/dist-packages/transformers/training_args.py:1575: FutureWarning: `evaluation_strategy` is deprecated and will be removed in version 4.46 of 🤗 Transformers. Use `eval_strategy` instead\n",
      "  warnings.warn(\n"
     ]
    }
   ],
   "source": [
    "train_args_roberta=TrainingArguments(\n",
    "    output_dir='./results_roberta',\n",
    "    evaluation_strategy='epoch',\n",
    "    save_strategy='epoch',\n",
    "    learning_rate=2e-5,\n",
    "    disable_tqdm=False,\n",
    "    num_train_epochs=5,\n",
    "    weight_decay=0.01,\n",
    "    load_best_model_at_end=True,\n",
    "    report_to=\"none\"\n",
    ")"
   ]
  },
  {
   "cell_type": "code",
   "execution_count": 130,
   "metadata": {
    "execution": {
     "iopub.execute_input": "2025-03-26T23:35:35.819652Z",
     "iopub.status.busy": "2025-03-26T23:35:35.819276Z",
     "iopub.status.idle": "2025-03-26T23:35:35.834046Z",
     "shell.execute_reply": "2025-03-26T23:35:35.833187Z",
     "shell.execute_reply.started": "2025-03-26T23:35:35.819589Z"
    },
    "trusted": true
   },
   "outputs": [
    {
     "name": "stderr",
     "output_type": "stream",
     "text": [
      "<ipython-input-130-02a4610ff075>:1: FutureWarning: `tokenizer` is deprecated and will be removed in version 5.0.0 for `Trainer.__init__`. Use `processing_class` instead.\n",
      "  trainer_roberta=Trainer(model=model_roberta,args=train_args_roberta,train_dataset=tokenized_data_roberta['train'],eval_dataset=tokenized_data_roberta['test'],compute_metrics=compute_metric,tokenizer=token_roberta)\n"
     ]
    }
   ],
   "source": [
    "trainer_roberta=Trainer(model=model_roberta,args=train_args_roberta,train_dataset=tokenized_data_roberta['train'],eval_dataset=tokenized_data_roberta['test'],compute_metrics=compute_metric,tokenizer=token_roberta)"
   ]
  },
  {
   "cell_type": "code",
   "execution_count": 131,
   "metadata": {
    "execution": {
     "iopub.execute_input": "2025-03-26T23:35:38.450544Z",
     "iopub.status.busy": "2025-03-26T23:35:38.450256Z",
     "iopub.status.idle": "2025-03-27T00:03:27.656969Z",
     "shell.execute_reply": "2025-03-27T00:03:27.656156Z",
     "shell.execute_reply.started": "2025-03-26T23:35:38.450521Z"
    },
    "trusted": true
   },
   "outputs": [
    {
     "name": "stderr",
     "output_type": "stream",
     "text": [
      "/usr/local/lib/python3.10/dist-packages/torch/nn/parallel/_functions.py:71: UserWarning: Was asked to gather along dimension 0, but all input tensors were scalars; will instead unsqueeze and return a vector.\n",
      "  warnings.warn(\n"
     ]
    },
    {
     "data": {
      "text/html": [
       "\n",
       "    <div>\n",
       "      \n",
       "      <progress value='8000' max='8000' style='width:300px; height:20px; vertical-align: middle;'></progress>\n",
       "      [8000/8000 27:45, Epoch 5/5]\n",
       "    </div>\n",
       "    <table border=\"1\" class=\"dataframe\">\n",
       "  <thead>\n",
       " <tr style=\"text-align: left;\">\n",
       "      <th>Epoch</th>\n",
       "      <th>Training Loss</th>\n",
       "      <th>Validation Loss</th>\n",
       "      <th>F1</th>\n",
       "      <th>Accuracy</th>\n",
       "      <th>Precision</th>\n",
       "      <th>Recall</th>\n",
       "    </tr>\n",
       "  </thead>\n",
       "  <tbody>\n",
       "    <tr>\n",
       "      <td>1</td>\n",
       "      <td>0.024300</td>\n",
       "      <td>0.013471</td>\n",
       "      <td>0.995811</td>\n",
       "      <td>0.995781</td>\n",
       "      <td>0.997203</td>\n",
       "      <td>0.994422</td>\n",
       "    </tr>\n",
       "    <tr>\n",
       "      <td>2</td>\n",
       "      <td>0.010500</td>\n",
       "      <td>0.020981</td>\n",
       "      <td>0.997367</td>\n",
       "      <td>0.997344</td>\n",
       "      <td>0.996904</td>\n",
       "      <td>0.997831</td>\n",
       "    </tr>\n",
       "    <tr>\n",
       "      <td>3</td>\n",
       "      <td>0.002000</td>\n",
       "      <td>0.042154</td>\n",
       "      <td>0.995212</td>\n",
       "      <td>0.995156</td>\n",
       "      <td>0.991995</td>\n",
       "      <td>0.998451</td>\n",
       "    </tr>\n",
       "    <tr>\n",
       "      <td>4</td>\n",
       "      <td>0.000400</td>\n",
       "      <td>0.022564</td>\n",
       "      <td>0.997366</td>\n",
       "      <td>0.997344</td>\n",
       "      <td>0.997520</td>\n",
       "      <td>0.997211</td>\n",
       "    </tr>\n",
       "    <tr>\n",
       "      <td>5</td>\n",
       "      <td>0.000000</td>\n",
       "      <td>0.020573</td>\n",
       "      <td>0.997520</td>\n",
       "      <td>0.997500</td>\n",
       "      <td>0.997829</td>\n",
       "      <td>0.997211</td>\n",
       "    </tr>\n",
       "  </tbody>\n",
       "</table><p>"
      ],
      "text/plain": [
       "<IPython.core.display.HTML object>"
      ]
     },
     "metadata": {},
     "output_type": "display_data"
    },
    {
     "name": "stderr",
     "output_type": "stream",
     "text": [
      "/usr/local/lib/python3.10/dist-packages/torch/nn/parallel/_functions.py:71: UserWarning: Was asked to gather along dimension 0, but all input tensors were scalars; will instead unsqueeze and return a vector.\n",
      "  warnings.warn(\n",
      "/usr/local/lib/python3.10/dist-packages/torch/nn/parallel/_functions.py:71: UserWarning: Was asked to gather along dimension 0, but all input tensors were scalars; will instead unsqueeze and return a vector.\n",
      "  warnings.warn(\n",
      "/usr/local/lib/python3.10/dist-packages/torch/nn/parallel/_functions.py:71: UserWarning: Was asked to gather along dimension 0, but all input tensors were scalars; will instead unsqueeze and return a vector.\n",
      "  warnings.warn(\n",
      "/usr/local/lib/python3.10/dist-packages/torch/nn/parallel/_functions.py:71: UserWarning: Was asked to gather along dimension 0, but all input tensors were scalars; will instead unsqueeze and return a vector.\n",
      "  warnings.warn(\n",
      "/usr/local/lib/python3.10/dist-packages/torch/nn/parallel/_functions.py:71: UserWarning: Was asked to gather along dimension 0, but all input tensors were scalars; will instead unsqueeze and return a vector.\n",
      "  warnings.warn(\n"
     ]
    },
    {
     "data": {
      "text/plain": [
       "TrainOutput(global_step=8000, training_loss=0.011401382079420729, metrics={'train_runtime': 1668.7834, 'train_samples_per_second': 76.703, 'train_steps_per_second': 4.794, 'total_flos': 2331139283828160.0, 'train_loss': 0.011401382079420729, 'epoch': 5.0})"
      ]
     },
     "execution_count": 131,
     "metadata": {},
     "output_type": "execute_result"
    }
   ],
   "source": [
    "trainer_roberta.train()"
   ]
  },
  {
   "cell_type": "code",
   "execution_count": 150,
   "metadata": {
    "execution": {
     "iopub.execute_input": "2025-03-27T00:53:17.406993Z",
     "iopub.status.busy": "2025-03-27T00:53:17.406659Z",
     "iopub.status.idle": "2025-03-27T00:53:45.864972Z",
     "shell.execute_reply": "2025-03-27T00:53:45.863681Z",
     "shell.execute_reply.started": "2025-03-27T00:53:17.406967Z"
    },
    "trusted": true
   },
   "outputs": [],
   "source": [
    "metrics_1=trainer_roberta.evaluate()"
   ]
  },
  {
   "cell_type": "code",
   "execution_count": 177,
   "metadata": {
    "execution": {
     "iopub.execute_input": "2025-03-27T01:41:42.819137Z",
     "iopub.status.busy": "2025-03-27T01:41:42.818830Z",
     "iopub.status.idle": "2025-03-27T01:41:42.822914Z",
     "shell.execute_reply": "2025-03-27T01:41:42.822121Z",
     "shell.execute_reply.started": "2025-03-27T01:41:42.819104Z"
    },
    "trusted": true
   },
   "outputs": [],
   "source": [
    "roberta_loss=metrics_1['eval_loss']"
   ]
  },
  {
   "cell_type": "code",
   "execution_count": 194,
   "metadata": {
    "execution": {
     "iopub.execute_input": "2025-03-27T02:05:58.458224Z",
     "iopub.status.busy": "2025-03-27T02:05:58.457934Z",
     "iopub.status.idle": "2025-03-27T02:05:58.536125Z",
     "shell.execute_reply": "2025-03-27T02:05:58.535260Z",
     "shell.execute_reply.started": "2025-03-27T02:05:58.458199Z"
    },
    "trusted": true
   },
   "outputs": [],
   "source": [
    "checkpoint = \"/kaggle/input/bert_bert_finetuned/transformers/default/1/project-11_checkpoints\"\n",
    "model = AutoModelForSequenceClassification.from_pretrained(checkpoint)"
   ]
  },
  {
   "cell_type": "code",
   "execution_count": 196,
   "metadata": {
    "execution": {
     "iopub.execute_input": "2025-03-27T02:06:53.921994Z",
     "iopub.status.busy": "2025-03-27T02:06:53.921676Z",
     "iopub.status.idle": "2025-03-27T02:06:53.983481Z",
     "shell.execute_reply": "2025-03-27T02:06:53.982626Z",
     "shell.execute_reply.started": "2025-03-27T02:06:53.921967Z"
    },
    "trusted": true
   },
   "outputs": [],
   "source": [
    "tokenizer = AutoTokenizer.from_pretrained(checkpoint)"
   ]
  },
  {
   "cell_type": "code",
   "execution_count": 205,
   "metadata": {
    "execution": {
     "iopub.execute_input": "2025-03-27T02:10:41.149015Z",
     "iopub.status.busy": "2025-03-27T02:10:41.148717Z",
     "iopub.status.idle": "2025-03-27T02:10:43.050423Z",
     "shell.execute_reply": "2025-03-27T02:10:43.049688Z",
     "shell.execute_reply.started": "2025-03-27T02:10:41.148992Z"
    },
    "trusted": true
   },
   "outputs": [
    {
     "data": {
      "application/vnd.jupyter.widget-view+json": {
       "model_id": "0fcacb07807045dd8be2d22f36602f89",
       "version_major": 2,
       "version_minor": 0
      },
      "text/plain": [
       "Map:   0%|          | 0/6400 [00:00<?, ? examples/s]"
      ]
     },
     "metadata": {},
     "output_type": "display_data"
    }
   ],
   "source": [
    "def tokenize_function(examples):\n",
    "    return tokenizer(examples[\"headline\"], padding=\"max_length\", truncation=True)\n",
    "\n",
    "tokenized_test_dataset = train_data['test'].map(tokenize_function, batched=True)"
   ]
  },
  {
   "cell_type": "code",
   "execution_count": 218,
   "metadata": {
    "execution": {
     "iopub.execute_input": "2025-03-27T02:29:47.190798Z",
     "iopub.status.busy": "2025-03-27T02:29:47.190430Z",
     "iopub.status.idle": "2025-03-27T02:29:47.232293Z",
     "shell.execute_reply": "2025-03-27T02:29:47.231676Z",
     "shell.execute_reply.started": "2025-03-27T02:29:47.190766Z"
    },
    "trusted": true
   },
   "outputs": [],
   "source": [
    "train_args = TrainingArguments(\n",
    "    output_dir=\"./results\",\n",
    "    report_to=\"none\",\n",
    "    per_device_eval_batch_size=8\n",
    "    \n",
    ")\n",
    "\n",
    "trainer = Trainer(model=model, args=train_args,compute_metrics=compute_metric)"
   ]
  },
  {
   "cell_type": "code",
   "execution_count": 219,
   "metadata": {
    "execution": {
     "iopub.execute_input": "2025-03-27T02:29:50.366356Z",
     "iopub.status.busy": "2025-03-27T02:29:50.366064Z",
     "iopub.status.idle": "2025-03-27T02:31:57.996620Z",
     "shell.execute_reply": "2025-03-27T02:31:57.995811Z",
     "shell.execute_reply.started": "2025-03-27T02:29:50.366333Z"
    },
    "trusted": true
   },
   "outputs": [
    {
     "name": "stderr",
     "output_type": "stream",
     "text": [
      "/usr/local/lib/python3.10/dist-packages/torch/nn/parallel/_functions.py:71: UserWarning: Was asked to gather along dimension 0, but all input tensors were scalars; will instead unsqueeze and return a vector.\n",
      "  warnings.warn(\n"
     ]
    },
    {
     "data": {
      "text/html": [
       "\n",
       "    <div>\n",
       "      \n",
       "      <progress value='400' max='400' style='width:300px; height:20px; vertical-align: middle;'></progress>\n",
       "      [400/400 02:07]\n",
       "    </div>\n",
       "    "
      ],
      "text/plain": [
       "<IPython.core.display.HTML object>"
      ]
     },
     "metadata": {},
     "output_type": "display_data"
    },
    {
     "name": "stdout",
     "output_type": "stream",
     "text": [
      "{'eval_loss': 0.013472950085997581, 'eval_f1': 0.9981389578163772, 'eval_accuracy': 0.998125, 'eval_precision': 0.999068612232226, 'eval_recall': 0.9972110319181903, 'eval_runtime': 127.6214, 'eval_samples_per_second': 50.148, 'eval_steps_per_second': 3.134}\n"
     ]
    }
   ],
   "source": [
    "import torch\n",
    "\n",
    "with torch.no_grad():\n",
    "    results = trainer.evaluate(tokenized_test_dataset)\n",
    "print(results)"
   ]
  },
  {
   "cell_type": "code",
   "execution_count": 241,
   "metadata": {
    "execution": {
     "iopub.execute_input": "2025-03-27T02:47:41.122888Z",
     "iopub.status.busy": "2025-03-27T02:47:41.122557Z",
     "iopub.status.idle": "2025-03-27T02:47:41.315910Z",
     "shell.execute_reply": "2025-03-27T02:47:41.315097Z",
     "shell.execute_reply.started": "2025-03-27T02:47:41.122862Z"
    },
    "trusted": true
   },
   "outputs": [
    {
     "data": {
      "image/png": "[encoded data removed]",
      "text/plain": [
       "<Figure size 640x480 with 1 Axes>"
      ]
     },
     "metadata": {},
     "output_type": "display_data"
    }
   ],
   "source": [
    "bert_acc=results['eval_accuracy']\n",
    "roberta_accuracy=metrics_1['eval_accuracy']\n",
    "tb_accuracy=metrics['eval_accuracy']\n",
    "distil_accuracy=metrics_3['eval_accuracy']\n",
    "\n",
    "x1=[0,1,2,3]\n",
    "\n",
    "labels=[f'bert_acc:{bert_acc:.2f}',f'roberta_accuracy{roberta_accuracy:.2f}',f'tb_accuracy{tb_accuracy:.2f}',f'distil_accuracy{distil_accuracy:.2f}']\n",
    "\n",
    "accuracies=numpy.array([bert_acc,roberta_accuracy,tb_accuracy,distil_accuracy])\n",
    "\n",
    "colors = ['red', 'blue', 'green', 'purple', 'orange']\n",
    "dev,harsh1=matplotlib.pyplot.subplots()\n",
    "harsh1.bar(x1,accuracies,width=0.75,color=colors)\n",
    "\n",
    "for i, label in enumerate(labels):\n",
    "    harsh1.text(x1[i],accuracies[i], label, fontsize=10, ha='right', va='bottom')"
   ]
  },
  {
   "cell_type": "code",
   "execution_count": 243,
   "metadata": {
    "execution": {
     "iopub.execute_input": "2025-03-27T02:50:19.516465Z",
     "iopub.status.busy": "2025-03-27T02:50:19.516146Z",
     "iopub.status.idle": "2025-03-27T02:50:19.703256Z",
     "shell.execute_reply": "2025-03-27T02:50:19.702398Z",
     "shell.execute_reply.started": "2025-03-27T02:50:19.516436Z"
    },
    "trusted": true
   },
   "outputs": [
    {
     "data": {
      "image/png": "[encoded data removed]",
      "text/plain": [
       "<Figure size 800x600 with 1 Axes>"
      ]
     },
     "metadata": {},
     "output_type": "display_data"
    }
   ],
   "source": [
    "import matplotlib.pyplot as plt\n",
    "import numpy as np\n",
    "\n",
    "models = [\"BERT\", \"RoBERTa\", \"TinyBERT\", \"DistilBERT\"]\n",
    "colors = [\"red\", \"blue\", \"green\", \"purple\"]\n",
    "\n",
    "plt.figure(figsize=(8, 6))\n",
    "bars = plt.bar(models, accuracies, color=colors, width=0.8)\n",
    "\n",
    "for bar, acc in zip(bars, accuracies):\n",
    "    plt.text(bar.get_x() + bar.get_width()/2, bar.get_height() - 0.05, \n",
    "             f\"{acc:.4f}\", ha='center', va='bottom', fontsize=12, color='white', fontweight='bold')\n",
    "\n",
    "plt.ylim(0, 1.1)\n",
    "plt.ylabel(\"Accuracy\", fontsize=14)\n",
    "plt.xlabel(\"Models\", fontsize=14)\n",
    "plt.title(\"Model Accuracy Comparison\", fontsize=16, fontweight='bold')\n",
    "\n",
    "# Improve aesthetics\n",
    "plt.xticks(fontsize=12)\n",
    "plt.yticks(fontsize=12)\n",
    "plt.grid(axis='y', linestyle=\"--\", alpha=0.7)\n",
    "\n",
    "plt.show()\n"
   ]
  },
  {
   "cell_type": "code",
   "execution_count": 246,
   "metadata": {
    "execution": {
     "iopub.execute_input": "2025-03-27T02:54:20.068005Z",
     "iopub.status.busy": "2025-03-27T02:54:20.067705Z",
     "iopub.status.idle": "2025-03-27T02:54:20.234986Z",
     "shell.execute_reply": "2025-03-27T02:54:20.234172Z",
     "shell.execute_reply.started": "2025-03-27T02:54:20.067984Z"
    },
    "trusted": true
   },
   "outputs": [
    {
     "data": {
      "image/png": "[encoded data removed]",
      "text/plain": [
       "<Figure size 800x600 with 1 Axes>"
      ]
     },
     "metadata": {},
     "output_type": "display_data"
    }
   ],
   "source": [
    "bert_pre=results['eval_precision']\n",
    "roberta_pre=metrics_1['eval_precision']\n",
    "tb_pre=metrics['eval_precision']\n",
    "distil_pre=metrics_3['eval_precision']\n",
    "\n",
    "precision=numpy.array([bert_pre,roberta_pre,tb_pre,distil_pre])\n",
    "\n",
    "models = [\"BERT\", \"RoBERTa\", \"TinyBERT\", \"DistilBERT\"]\n",
    "colors = [\"red\", \"blue\", \"green\", \"purple\"]\n",
    "\n",
    "plt.figure(figsize=(8, 6))\n",
    "bars = plt.bar(models,precision,color=colors,width=0.8)\n",
    "\n",
    "for bar, acc in zip(bars, precision):\n",
    "    plt.text(bar.get_x() + bar.get_width()/2, bar.get_height() - 0.05, \n",
    "             f\"{acc:.4f}\", ha='center', va='bottom', fontsize=12, color='white', fontweight='bold')\n",
    "\n",
    "plt.ylim(0, 1.1)\n",
    "plt.ylabel(\"Precision\", fontsize=14)\n",
    "plt.xlabel(\"Models\", fontsize=14)\n",
    "plt.title(\"precision\", fontsize=16, fontweight='bold')\n",
    "\n",
    "plt.xticks(fontsize=12)\n",
    "plt.yticks(fontsize=12)\n",
    "plt.grid(axis='y', linestyle=\"--\", alpha=0.7)\n",
    "\n",
    "plt.show()\n"
   ]
  },
  {
   "cell_type": "code",
   "execution_count": 247,
   "metadata": {
    "execution": {
     "iopub.execute_input": "2025-03-27T02:56:01.000539Z",
     "iopub.status.busy": "2025-03-27T02:56:01.000237Z",
     "iopub.status.idle": "2025-03-27T02:56:01.173202Z",
     "shell.execute_reply": "2025-03-27T02:56:01.172383Z",
     "shell.execute_reply.started": "2025-03-27T02:56:01.000517Z"
    },
    "trusted": true
   },
   "outputs": [
    {
     "data": {
      "image/png": "[encoded data removed]",
      "text/plain": [
       "<Figure size 800x600 with 1 Axes>"
      ]
     },
     "metadata": {},
     "output_type": "display_data"
    }
   ],
   "source": [
    "bert_recall=results['eval_recall']\n",
    "roberta_recall=metrics_1['eval_recall']\n",
    "tb_recall=metrics['eval_recall']\n",
    "distil_recall=metrics_3['eval_recall']\n",
    "\n",
    "recall=numpy.array([bert_recall,roberta_recall,tb_recall,distil_recall])\n",
    "\n",
    "models = [\"BERT\", \"RoBERTa\", \"TinyBERT\", \"DistilBERT\"]\n",
    "colors = [\"red\", \"blue\", \"green\", \"purple\"]\n",
    "\n",
    "plt.figure(figsize=(8, 6))\n",
    "bars = plt.bar(models,recall,color=colors,width=0.8)\n",
    "\n",
    "for bar, acc in zip(bars,recall):\n",
    "    plt.text(bar.get_x() + bar.get_width()/2, bar.get_height() - 0.05, \n",
    "             f\"{acc:.4f}\", ha='center', va='bottom', fontsize=12, color='white', fontweight='bold')\n",
    "\n",
    "plt.ylim(0, 1.1)\n",
    "plt.ylabel(\"recall\", fontsize=14)\n",
    "plt.xlabel(\"Models\", fontsize=14)\n",
    "plt.title(\"recall\", fontsize=16, fontweight='bold')\n",
    "\n",
    "plt.xticks(fontsize=12)\n",
    "plt.yticks(fontsize=12)\n",
    "plt.grid(axis='y', linestyle=\"--\", alpha=0.7)\n",
    "\n",
    "plt.show()\n"
   ]
  },
  {
   "cell_type": "code",
   "execution_count": 249,
   "metadata": {
    "execution": {
     "iopub.execute_input": "2025-03-27T02:58:06.819281Z",
     "iopub.status.busy": "2025-03-27T02:58:06.818900Z",
     "iopub.status.idle": "2025-03-27T02:58:06.997440Z",
     "shell.execute_reply": "2025-03-27T02:58:06.996466Z",
     "shell.execute_reply.started": "2025-03-27T02:58:06.819234Z"
    },
    "trusted": true
   },
   "outputs": [
    {
     "data": {
      "image/png": "[encoded data removed]",
      "text/plain": [
       "<Figure size 800x600 with 1 Axes>"
      ]
     },
     "metadata": {},
     "output_type": "display_data"
    }
   ],
   "source": [
    "bert_f1=results['eval_f1']\n",
    "roberta_f1=metrics_1['eval_f1']\n",
    "tb_f1=metrics['eval_f1']\n",
    "distil_f1=metrics_3['eval_f1']\n",
    "\n",
    "f1_score=numpy.array([bert_f1,roberta_f1,tb_f1,distil_f1])\n",
    "\n",
    "models = [\"BERT\", \"RoBERTa\", \"TinyBERT\", \"DistilBERT\"]\n",
    "colors = [\"red\", \"blue\", \"green\", \"purple\"]\n",
    "\n",
    "plt.figure(figsize=(8, 6))\n",
    "bars = plt.bar(models,f1_score,color=colors,width=0.8)\n",
    "\n",
    "for bar, acc in zip(bars,f1_score):\n",
    "    plt.text(bar.get_x() + bar.get_width()/2, bar.get_height() - 0.05, \n",
    "             f\"{acc:.4f}\", ha='center', va='bottom', fontsize=12, color='white', fontweight='bold')\n",
    "\n",
    "plt.ylim(0, 1.1)\n",
    "plt.ylabel(\"f1_score\", fontsize=14)\n",
    "plt.xlabel(\"Models\", fontsize=14)\n",
    "plt.title(\"f1_score\", fontsize=16, fontweight='bold')\n",
    "\n",
    "plt.xticks(fontsize=12)\n",
    "plt.yticks(fontsize=12)\n",
    "plt.grid(axis='y', linestyle=\"--\", alpha=0.7)\n",
    "\n",
    "plt.show()\n"
   ]
  },
  {
   "cell_type": "code",
   "execution_count": 248,
   "metadata": {
    "execution": {
     "iopub.execute_input": "2025-03-27T02:56:40.134203Z",
     "iopub.status.busy": "2025-03-27T02:56:40.133871Z",
     "iopub.status.idle": "2025-03-27T02:56:40.139368Z",
     "shell.execute_reply": "2025-03-27T02:56:40.138397Z",
     "shell.execute_reply.started": "2025-03-27T02:56:40.134180Z"
    },
    "trusted": true
   },
   "outputs": [
    {
     "data": {
      "text/plain": [
       "{'eval_loss': 0.013472950085997581,\n",
       " 'eval_f1': 0.9981389578163772,\n",
       " 'eval_accuracy': 0.998125,\n",
       " 'eval_precision': 0.999068612232226,\n",
       " 'eval_recall': 0.9972110319181903,\n",
       " 'eval_runtime': 127.6214,\n",
       " 'eval_samples_per_second': 50.148,\n",
       " 'eval_steps_per_second': 3.134}"
      ]
     },
     "execution_count": 248,
     "metadata": {},
     "output_type": "execute_result"
    }
   ],
   "source": []
  }
 ],
 "metadata": {
  "kaggle": {
   "accelerator": "nvidiaTeslaT4",
   "dataSources": [
    {
     "datasetId": 6976272,
     "sourceId": 11177277,
     "sourceType": "datasetVersion"
    },
    {
     "datasetId": 6977347,
     "sourceId": 11178777,
     "sourceType": "datasetVersion"
    },
    {
     "isSourceIdPinned": true,
     "modelId": 280466,
     "modelInstanceId": 259271,
     "sourceId": 303754,
     "sourceType": "modelInstanceVersion"
    }
   ],
   "dockerImageVersionId": 30919,
   "isGpuEnabled": true,
   "isInternetEnabled": true,
   "language": "python",
   "sourceType": "notebook"
  },
  "kernelspec": {
   "display_name": "Python 3",
   "language": "python",
   "name": "python3"
  },
  "language_info": {
   "codemirror_mode": {
    "name": "ipython",
    "version": 3
   },
   "file_extension": ".py",
   "mimetype": "text/x-python",
   "name": "python",
   "nbconvert_exporter": "python",
   "pygments_lexer": "ipython3",
   "version": "3.10.12"
  }
 },
 "nbformat": 4,
 "nbformat_minor": 4
}
